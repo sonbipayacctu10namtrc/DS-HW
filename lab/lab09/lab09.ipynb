{
 "cells": [
  {
   "cell_type": "code",
   "execution_count": 1,
   "id": "9e4f7d2b",
   "metadata": {
    "deletable": false,
    "editable": false
   },
   "outputs": [],
   "source": [
    "# Initialize Otter\n",
    "import otter\n",
    "grader = otter.Notebook(\"lab09.ipynb\")"
   ]
  },
  {
   "cell_type": "markdown",
   "id": "9d8b7a22",
   "metadata": {},
   "source": [
    "<img src=\"data8logo.png\" alt=\"Data 8 Logo\" style=\"width: 15%; float: right; padding: 1%; margin-right: 2%;\"/>\n",
    "\n",
    "# Lab 9: Regression\n",
    "\n",
    "Welcome to Lab 9!\n",
    "\n",
    "Today we will get some hands-on practice with linear regression. \n",
    "\n",
    "#### **Helpful Resource:**\n",
    "- [Python Reference](http://data8.org/fa24/reference/)\n",
    "\n",
    "**Recommended Readings:**\n",
    "\n",
    "* [Variability](https://inferentialthinking.com/chapters/14/2/Variability.html#)\n",
    "* [Correlation](https://inferentialthinking.com/chapters/15/1/Correlation.html#)\n",
    "* [The Regression Line](https://www.inferentialthinking.com/chapters/15/2/Regression_Line.html#the-regression-line)"
   ]
  },
  {
   "attachments": {},
   "cell_type": "markdown",
   "id": "3eee2d6d",
   "metadata": {},
   "source": [
    "**Getting help on lab**: Whenever you feel stuck or need some further clarification, find a GSI or tutor, and they'll be happy to help!\n",
    "\n",
    "As a reminder, here are the policies for getting full credit:\n",
    "\n",
    "1. For students enrolled in in-person <span style=\"color: #BC412B\">**Regular Labs**</span>, you will receive 80% lab credit by **attending** lab discussion and 20% lab credit for passing all test cases and submitting it to Gradescope by **5pm on the Friday the same week it was released**.\n",
    "\n",
    "2. For students enrolled in <span style=\"color: #04888B\">**Self Service**</span>, you will receive full lab credit by **completing** the notebook, passing all test cases, and **submitting** it to Gradescope by **5pm on the Friday the same week it was released**.\n",
    "\n",
    "**Submission**: Once you’re finished, run all cells besides the last one, select File > Save Notebook, and then execute the final cell. The result will contain a zip file that you can use to submit on Gradescope.\n",
    "\n",
    "Let's begin by setting up the tests and imports by running the cell below."
   ]
  },
  {
   "cell_type": "code",
   "execution_count": 2,
   "id": "d99a1e4b",
   "metadata": {},
   "outputs": [],
   "source": [
    "# Run this cell, but please don't change it.\n",
    "\n",
    "# These lines import the Numpy and Datascience modules.\n",
    "import numpy as np\n",
    "from datascience import *\n",
    "\n",
    "# These lines do some fancy plotting magic.\n",
    "import matplotlib\n",
    "%matplotlib inline\n",
    "import matplotlib.pyplot as plots\n",
    "plots.style.use('fivethirtyeight')\n",
    "import warnings\n",
    "warnings.simplefilter('ignore', FutureWarning)"
   ]
  },
  {
   "cell_type": "markdown",
   "id": "5b7eca8b",
   "metadata": {},
   "source": [
    "<hr style=\"border: 5px solid #003262;\" />\n",
    "<hr style=\"border: 1px solid #fdb515;\" />\n",
    "\n",
    "# 1. How Faithful is Old Faithful? \n",
    "\n",
    "Old Faithful is a geyser in Yellowstone National Park that is famous for eruption on a fairly regular schedule. Run the cell below to see Old Faithful in action!"
   ]
  },
  {
   "cell_type": "code",
   "execution_count": 3,
   "id": "a08611ae",
   "metadata": {},
   "outputs": [
    {
     "data": {
      "image/jpeg": "[encoded data removed]",
      "text/html": [
       "\n",
       "        <iframe\n",
       "            width=\"400\"\n",
       "            height=\"300\"\n",
       "            src=\"https://www.youtube.com/embed/wE8NDuzt8eg\"\n",
       "            frameborder=\"0\"\n",
       "            allowfullscreen\n",
       "            \n",
       "        ></iframe>\n",
       "        "
      ],
      "text/plain": [
       "<IPython.lib.display.YouTubeVideo at 0x7f166a246590>"
      ]
     },
     "execution_count": 3,
     "metadata": {},
     "output_type": "execute_result"
    }
   ],
   "source": [
    "# For the curious: this is how to display a YouTube video in a\n",
    "# Jupyter notebook.  The argument to YouTubeVideo is the part\n",
    "# of the URL (called a \"query parameter\") that identifies the\n",
    "# video.  For example, the full URL for this video is:\n",
    "#   https://www.youtube.com/watch?v=wE8NDuzt8eg\n",
    "from IPython.display import YouTubeVideo\n",
    "YouTubeVideo(\"wE8NDuzt8eg\")"
   ]
  },
  {
   "cell_type": "markdown",
   "id": "16471106",
   "metadata": {},
   "source": [
    "Some of Old Faithful's eruptions last longer than others.  Whenever there is a long eruption, it is usually followed by an even longer wait before the next eruption. If you visit Yellowstone, you might want to predict when the next eruption will happen, so that you can see the rest of the park instead of waiting by the geyser.\n",
    " \n",
    "Today, we will use a dataset on eruption durations and waiting times to see if we can make such predictions accurately with linear regression.\n",
    "\n",
    "The dataset has one row for each observed eruption.  It includes the following columns:\n",
    "- `duration`: Eruption duration, in minutes\n",
    "- `wait`: Time between this eruption and the next, also in minutes\n",
    "\n",
    "Run the next cell to load the dataset."
   ]
  },
  {
   "cell_type": "code",
   "execution_count": 4,
   "id": "f9efedf8",
   "metadata": {},
   "outputs": [
    {
     "data": {
      "text/html": [
       "<table border=\"1\" class=\"dataframe\">\n",
       "    <thead>\n",
       "        <tr>\n",
       "            <th>duration</th> <th>wait</th>\n",
       "        </tr>\n",
       "    </thead>\n",
       "    <tbody>\n",
       "        <tr>\n",
       "            <td>3.6     </td> <td>79  </td>\n",
       "        </tr>\n",
       "        <tr>\n",
       "            <td>1.8     </td> <td>54  </td>\n",
       "        </tr>\n",
       "        <tr>\n",
       "            <td>3.333   </td> <td>74  </td>\n",
       "        </tr>\n",
       "        <tr>\n",
       "            <td>2.283   </td> <td>62  </td>\n",
       "        </tr>\n",
       "        <tr>\n",
       "            <td>4.533   </td> <td>85  </td>\n",
       "        </tr>\n",
       "        <tr>\n",
       "            <td>2.883   </td> <td>55  </td>\n",
       "        </tr>\n",
       "        <tr>\n",
       "            <td>4.7     </td> <td>88  </td>\n",
       "        </tr>\n",
       "        <tr>\n",
       "            <td>3.6     </td> <td>85  </td>\n",
       "        </tr>\n",
       "        <tr>\n",
       "            <td>1.95    </td> <td>51  </td>\n",
       "        </tr>\n",
       "        <tr>\n",
       "            <td>4.35    </td> <td>85  </td>\n",
       "        </tr>\n",
       "    </tbody>\n",
       "</table>\n",
       "<p>... (262 rows omitted)</p>"
      ],
      "text/plain": [
       "duration | wait\n",
       "3.6      | 79\n",
       "1.8      | 54\n",
       "3.333    | 74\n",
       "2.283    | 62\n",
       "4.533    | 85\n",
       "2.883    | 55\n",
       "4.7      | 88\n",
       "3.6      | 85\n",
       "1.95     | 51\n",
       "4.35     | 85\n",
       "... (262 rows omitted)"
      ]
     },
     "execution_count": 4,
     "metadata": {},
     "output_type": "execute_result"
    }
   ],
   "source": [
    "faithful = Table.read_table(\"faithful.csv\")\n",
    "faithful"
   ]
  },
  {
   "cell_type": "markdown",
   "id": "6c9c3bfc",
   "metadata": {},
   "source": [
    "<hr style=\"border: 1px solid #fdb515;\" />\n",
    "\n",
    "**Question 1.0.** The following statements are the unordered steps of linear regression.  \n",
    "\n",
    "1. Compute the parameters of the regression line: the slope and the intercept. \n",
    "2. Evaluate the regression line by computing the line’s RMSE and analyzing the residuals plot. \n",
    "3. Use the regression line to generate predictions for each x value. \n",
    "4. Determine if linear regression is a reasonable method by visualizing your data and computing the correlation coefficient. \n",
    "\n",
    "Make an array called `least_squares_order` that contains the correct order of a linear regression analysis, where the first item of the array is the first step of an linear regression analysis and the last item of the array is the last step of an linear regression analysis.\n"
   ]
  },
  {
   "cell_type": "code",
   "execution_count": 5,
   "id": "d228923d",
   "metadata": {
    "tags": []
   },
   "outputs": [],
   "source": [
    "least_squares_order = ..."
   ]
  },
  {
   "cell_type": "code",
   "execution_count": 6,
   "id": "edfe6b4a",
   "metadata": {
    "deletable": false,
    "editable": false
   },
   "outputs": [
    {
     "data": {
      "text/html": [
       "<p><strong style='color: red;'><pre style='display: inline;'>q1_0</pre> results:</strong></p><p><strong><pre style='display: inline;'>q1_0 - 1</pre> result:</strong></p><pre>    ❌ Test case failed\n",
       "    Trying:\n",
       "        len(least_squares_order) == 4\n",
       "    Expecting:\n",
       "        True\n",
       "    **********************************************************************\n",
       "    Line 1, in q1_0 0\n",
       "    Failed example:\n",
       "        len(least_squares_order) == 4\n",
       "    Exception raised:\n",
       "        Traceback (most recent call last):\n",
       "          File \"/home/xuananle/.pyenv/versions/3.10.12/lib/python3.10/doctest.py\", line 1350, in __run\n",
       "            exec(compile(example.source, filename, \"single\",\n",
       "          File \"<doctest q1_0 0[0]>\", line 1, in <module>\n",
       "            len(least_squares_order) == 4\n",
       "        TypeError: object of type 'ellipsis' has no len()\n",
       "</pre><p><strong><pre style='display: inline;'>q1_0 - 2</pre> result:</strong></p><pre>    ❌ Test case failed\n",
       "    Trying:\n",
       "        import hashlib # This imports a hashing library for the autograder.\n",
       "    Expecting nothing\n",
       "    ok\n",
       "    Trying:\n",
       "        def get_hash(num):\n",
       "            \"\"\"Helper function for assessing correctness.\"\"\"\n",
       "            return hashlib.md5(str(num).encode()).hexdigest()\n",
       "    Expecting nothing\n",
       "    ok\n",
       "    Trying:\n",
       "        get_hash(np.array(least_squares_order).astype(int)) # Your ordering is incorrect.\n",
       "    Expecting:\n",
       "        'cd29f2d730e11535cef30ecc78640daa'\n",
       "    **********************************************************************\n",
       "    Line 7, in q1_0 1\n",
       "    Failed example:\n",
       "        get_hash(np.array(least_squares_order).astype(int)) # Your ordering is incorrect.\n",
       "    Exception raised:\n",
       "        Traceback (most recent call last):\n",
       "          File \"/home/xuananle/.pyenv/versions/3.10.12/lib/python3.10/doctest.py\", line 1350, in __run\n",
       "            exec(compile(example.source, filename, \"single\",\n",
       "          File \"<doctest q1_0 1[2]>\", line 1, in <module>\n",
       "            get_hash(np.array(least_squares_order).astype(int)) # Your ordering is incorrect.\n",
       "        TypeError: int() argument must be a string, a bytes-like object or a real number, not 'ellipsis'\n",
       "</pre>"
      ],
      "text/plain": [
       "q1_0 results:\n",
       "    q1_0 - 1 result:\n",
       "        ❌ Test case failed\n",
       "        Trying:\n",
       "            len(least_squares_order) == 4\n",
       "        Expecting:\n",
       "            True\n",
       "        **********************************************************************\n",
       "        Line 1, in q1_0 0\n",
       "        Failed example:\n",
       "            len(least_squares_order) == 4\n",
       "        Exception raised:\n",
       "            Traceback (most recent call last):\n",
       "              File \"/home/xuananle/.pyenv/versions/3.10.12/lib/python3.10/doctest.py\", line 1350, in __run\n",
       "                exec(compile(example.source, filename, \"single\",\n",
       "              File \"<doctest q1_0 0[0]>\", line 1, in <module>\n",
       "                len(least_squares_order) == 4\n",
       "            TypeError: object of type 'ellipsis' has no len()\n",
       "\n",
       "    q1_0 - 2 result:\n",
       "        ❌ Test case failed\n",
       "        Trying:\n",
       "            import hashlib # This imports a hashing library for the autograder.\n",
       "        Expecting nothing\n",
       "        ok\n",
       "        Trying:\n",
       "            def get_hash(num):\n",
       "                \"\"\"Helper function for assessing correctness.\"\"\"\n",
       "                return hashlib.md5(str(num).encode()).hexdigest()\n",
       "        Expecting nothing\n",
       "        ok\n",
       "        Trying:\n",
       "            get_hash(np.array(least_squares_order).astype(int)) # Your ordering is incorrect.\n",
       "        Expecting:\n",
       "            'cd29f2d730e11535cef30ecc78640daa'\n",
       "        **********************************************************************\n",
       "        Line 7, in q1_0 1\n",
       "        Failed example:\n",
       "            get_hash(np.array(least_squares_order).astype(int)) # Your ordering is incorrect.\n",
       "        Exception raised:\n",
       "            Traceback (most recent call last):\n",
       "              File \"/home/xuananle/.pyenv/versions/3.10.12/lib/python3.10/doctest.py\", line 1350, in __run\n",
       "                exec(compile(example.source, filename, \"single\",\n",
       "              File \"<doctest q1_0 1[2]>\", line 1, in <module>\n",
       "                get_hash(np.array(least_squares_order).astype(int)) # Your ordering is incorrect.\n",
       "            TypeError: int() argument must be a string, a bytes-like object or a real number, not 'ellipsis'"
      ]
     },
     "execution_count": 6,
     "metadata": {},
     "output_type": "execute_result"
    }
   ],
   "source": [
    "grader.check(\"q1_0\")"
   ]
  },
  {
   "cell_type": "markdown",
   "id": "67cb52bc",
   "metadata": {},
   "source": [
    "We would like to use linear regression to make predictions, but that won't work well if the data aren't roughly linearly related.  To check that, we should look at the data."
   ]
  },
  {
   "cell_type": "markdown",
   "id": "b8698b9b",
   "metadata": {},
   "source": [
    "<hr style=\"border: 1px solid #fdb515;\" />\n",
    "\n",
    "**Question 1.1.** Make a scatter plot of the data.  It's conventional to put the column we want to predict on the vertical axis and the other column on the horizontal axis.\n"
   ]
  },
  {
   "cell_type": "code",
   "execution_count": 7,
   "id": "382cfb7d",
   "metadata": {
    "tags": []
   },
   "outputs": [
    {
     "data": {
      "text/plain": [
       "Ellipsis"
      ]
     },
     "execution_count": 7,
     "metadata": {},
     "output_type": "execute_result"
    }
   ],
   "source": [
    "..."
   ]
  },
  {
   "cell_type": "markdown",
   "id": "bcce3566",
   "metadata": {},
   "source": [
    "<hr style=\"border: 1px solid #fdb515;\" />\n",
    "\n",
    "**Question 1.2.** Are eruption duration and waiting time roughly linearly related based on the scatter plot above? Is this relationship positive?"
   ]
  },
  {
   "cell_type": "markdown",
   "id": "1a33d065",
   "metadata": {},
   "source": [
    "_Type your answer here, replacing this text._"
   ]
  },
  {
   "cell_type": "markdown",
   "id": "6e4a86b6",
   "metadata": {},
   "source": [
    "We're going to continue with the assumption that they are linearly related, so it's reasonable to use linear regression to analyze this data.\n",
    "\n",
    "We'd next like to plot the data in standard units. If you don't remember the definition of standard units, textbook section [14.2](https://www.inferentialthinking.com/chapters/14/2/Variability.html#standard-units) might help!"
   ]
  },
  {
   "cell_type": "markdown",
   "id": "c9bd62b3",
   "metadata": {},
   "source": [
    "<hr style=\"border: 1px solid #fdb515;\" />\n",
    "\n",
    "**Question 1.3.** Compute the mean and standard deviation of the eruption durations and waiting times.  **Then** create a table called `faithful_standard` containing the eruption durations and waiting times in standard units.  The columns should be named `duration (standard units)` and `wait (standard units)`."
   ]
  },
  {
   "cell_type": "code",
   "execution_count": 8,
   "id": "28431e1e-a842-4274-872f-8bee22f38837",
   "metadata": {},
   "outputs": [
    {
     "data": {
      "text/html": [
       "<table border=\"1\" class=\"dataframe\">\n",
       "    <thead>\n",
       "        <tr>\n",
       "            <th>duration</th> <th>wait</th>\n",
       "        </tr>\n",
       "    </thead>\n",
       "    <tbody>\n",
       "        <tr>\n",
       "            <td>3.6     </td> <td>79  </td>\n",
       "        </tr>\n",
       "        <tr>\n",
       "            <td>1.8     </td> <td>54  </td>\n",
       "        </tr>\n",
       "        <tr>\n",
       "            <td>3.333   </td> <td>74  </td>\n",
       "        </tr>\n",
       "        <tr>\n",
       "            <td>2.283   </td> <td>62  </td>\n",
       "        </tr>\n",
       "        <tr>\n",
       "            <td>4.533   </td> <td>85  </td>\n",
       "        </tr>\n",
       "        <tr>\n",
       "            <td>2.883   </td> <td>55  </td>\n",
       "        </tr>\n",
       "        <tr>\n",
       "            <td>4.7     </td> <td>88  </td>\n",
       "        </tr>\n",
       "        <tr>\n",
       "            <td>3.6     </td> <td>85  </td>\n",
       "        </tr>\n",
       "        <tr>\n",
       "            <td>1.95    </td> <td>51  </td>\n",
       "        </tr>\n",
       "        <tr>\n",
       "            <td>4.35    </td> <td>85  </td>\n",
       "        </tr>\n",
       "        <tr>\n",
       "            <td>1.833   </td> <td>54  </td>\n",
       "        </tr>\n",
       "        <tr>\n",
       "            <td>3.917   </td> <td>84  </td>\n",
       "        </tr>\n",
       "        <tr>\n",
       "            <td>4.2     </td> <td>78  </td>\n",
       "        </tr>\n",
       "        <tr>\n",
       "            <td>1.75    </td> <td>47  </td>\n",
       "        </tr>\n",
       "        <tr>\n",
       "            <td>4.7     </td> <td>83  </td>\n",
       "        </tr>\n",
       "        <tr>\n",
       "            <td>2.167   </td> <td>52  </td>\n",
       "        </tr>\n",
       "        <tr>\n",
       "            <td>1.75    </td> <td>62  </td>\n",
       "        </tr>\n",
       "        <tr>\n",
       "            <td>4.8     </td> <td>84  </td>\n",
       "        </tr>\n",
       "        <tr>\n",
       "            <td>1.6     </td> <td>52  </td>\n",
       "        </tr>\n",
       "        <tr>\n",
       "            <td>4.25    </td> <td>79  </td>\n",
       "        </tr>\n",
       "        <tr>\n",
       "            <td>1.8     </td> <td>51  </td>\n",
       "        </tr>\n",
       "        <tr>\n",
       "            <td>1.75    </td> <td>47  </td>\n",
       "        </tr>\n",
       "        <tr>\n",
       "            <td>3.45    </td> <td>78  </td>\n",
       "        </tr>\n",
       "        <tr>\n",
       "            <td>3.067   </td> <td>69  </td>\n",
       "        </tr>\n",
       "        <tr>\n",
       "            <td>4.533   </td> <td>74  </td>\n",
       "        </tr>\n",
       "        <tr>\n",
       "            <td>3.6     </td> <td>83  </td>\n",
       "        </tr>\n",
       "        <tr>\n",
       "            <td>1.967   </td> <td>55  </td>\n",
       "        </tr>\n",
       "        <tr>\n",
       "            <td>4.083   </td> <td>76  </td>\n",
       "        </tr>\n",
       "        <tr>\n",
       "            <td>3.85    </td> <td>78  </td>\n",
       "        </tr>\n",
       "        <tr>\n",
       "            <td>4.433   </td> <td>79  </td>\n",
       "        </tr>\n",
       "        <tr>\n",
       "            <td>4.3     </td> <td>73  </td>\n",
       "        </tr>\n",
       "        <tr>\n",
       "            <td>4.467   </td> <td>77  </td>\n",
       "        </tr>\n",
       "        <tr>\n",
       "            <td>3.367   </td> <td>66  </td>\n",
       "        </tr>\n",
       "        <tr>\n",
       "            <td>4.033   </td> <td>80  </td>\n",
       "        </tr>\n",
       "        <tr>\n",
       "            <td>3.833   </td> <td>74  </td>\n",
       "        </tr>\n",
       "        <tr>\n",
       "            <td>2.017   </td> <td>52  </td>\n",
       "        </tr>\n",
       "        <tr>\n",
       "            <td>1.867   </td> <td>48  </td>\n",
       "        </tr>\n",
       "        <tr>\n",
       "            <td>4.833   </td> <td>80  </td>\n",
       "        </tr>\n",
       "        <tr>\n",
       "            <td>1.833   </td> <td>59  </td>\n",
       "        </tr>\n",
       "        <tr>\n",
       "            <td>4.783   </td> <td>90  </td>\n",
       "        </tr>\n",
       "        <tr>\n",
       "            <td>4.35    </td> <td>80  </td>\n",
       "        </tr>\n",
       "        <tr>\n",
       "            <td>1.883   </td> <td>58  </td>\n",
       "        </tr>\n",
       "        <tr>\n",
       "            <td>4.567   </td> <td>84  </td>\n",
       "        </tr>\n",
       "        <tr>\n",
       "            <td>1.75    </td> <td>58  </td>\n",
       "        </tr>\n",
       "        <tr>\n",
       "            <td>4.533   </td> <td>73  </td>\n",
       "        </tr>\n",
       "        <tr>\n",
       "            <td>3.317   </td> <td>83  </td>\n",
       "        </tr>\n",
       "        <tr>\n",
       "            <td>3.833   </td> <td>64  </td>\n",
       "        </tr>\n",
       "        <tr>\n",
       "            <td>2.1     </td> <td>53  </td>\n",
       "        </tr>\n",
       "        <tr>\n",
       "            <td>4.633   </td> <td>82  </td>\n",
       "        </tr>\n",
       "        <tr>\n",
       "            <td>2       </td> <td>59  </td>\n",
       "        </tr>\n",
       "        <tr>\n",
       "            <td>4.8     </td> <td>75  </td>\n",
       "        </tr>\n",
       "        <tr>\n",
       "            <td>4.716   </td> <td>90  </td>\n",
       "        </tr>\n",
       "        <tr>\n",
       "            <td>1.833   </td> <td>54  </td>\n",
       "        </tr>\n",
       "        <tr>\n",
       "            <td>4.833   </td> <td>80  </td>\n",
       "        </tr>\n",
       "        <tr>\n",
       "            <td>1.733   </td> <td>54  </td>\n",
       "        </tr>\n",
       "        <tr>\n",
       "            <td>4.883   </td> <td>83  </td>\n",
       "        </tr>\n",
       "        <tr>\n",
       "            <td>3.717   </td> <td>71  </td>\n",
       "        </tr>\n",
       "        <tr>\n",
       "            <td>1.667   </td> <td>64  </td>\n",
       "        </tr>\n",
       "        <tr>\n",
       "            <td>4.567   </td> <td>77  </td>\n",
       "        </tr>\n",
       "        <tr>\n",
       "            <td>4.317   </td> <td>81  </td>\n",
       "        </tr>\n",
       "        <tr>\n",
       "            <td>2.233   </td> <td>59  </td>\n",
       "        </tr>\n",
       "        <tr>\n",
       "            <td>4.5     </td> <td>84  </td>\n",
       "        </tr>\n",
       "        <tr>\n",
       "            <td>1.75    </td> <td>48  </td>\n",
       "        </tr>\n",
       "        <tr>\n",
       "            <td>4.8     </td> <td>82  </td>\n",
       "        </tr>\n",
       "        <tr>\n",
       "            <td>1.817   </td> <td>60  </td>\n",
       "        </tr>\n",
       "        <tr>\n",
       "            <td>4.4     </td> <td>92  </td>\n",
       "        </tr>\n",
       "        <tr>\n",
       "            <td>4.167   </td> <td>78  </td>\n",
       "        </tr>\n",
       "        <tr>\n",
       "            <td>4.7     </td> <td>78  </td>\n",
       "        </tr>\n",
       "        <tr>\n",
       "            <td>2.067   </td> <td>65  </td>\n",
       "        </tr>\n",
       "        <tr>\n",
       "            <td>4.7     </td> <td>73  </td>\n",
       "        </tr>\n",
       "        <tr>\n",
       "            <td>4.033   </td> <td>82  </td>\n",
       "        </tr>\n",
       "        <tr>\n",
       "            <td>1.967   </td> <td>56  </td>\n",
       "        </tr>\n",
       "        <tr>\n",
       "            <td>4.5     </td> <td>79  </td>\n",
       "        </tr>\n",
       "        <tr>\n",
       "            <td>4       </td> <td>71  </td>\n",
       "        </tr>\n",
       "        <tr>\n",
       "            <td>1.983   </td> <td>62  </td>\n",
       "        </tr>\n",
       "        <tr>\n",
       "            <td>5.067   </td> <td>76  </td>\n",
       "        </tr>\n",
       "        <tr>\n",
       "            <td>2.017   </td> <td>60  </td>\n",
       "        </tr>\n",
       "        <tr>\n",
       "            <td>4.567   </td> <td>78  </td>\n",
       "        </tr>\n",
       "        <tr>\n",
       "            <td>3.883   </td> <td>76  </td>\n",
       "        </tr>\n",
       "        <tr>\n",
       "            <td>3.6     </td> <td>83  </td>\n",
       "        </tr>\n",
       "        <tr>\n",
       "            <td>4.133   </td> <td>75  </td>\n",
       "        </tr>\n",
       "        <tr>\n",
       "            <td>4.333   </td> <td>82  </td>\n",
       "        </tr>\n",
       "        <tr>\n",
       "            <td>4.1     </td> <td>70  </td>\n",
       "        </tr>\n",
       "        <tr>\n",
       "            <td>2.633   </td> <td>65  </td>\n",
       "        </tr>\n",
       "        <tr>\n",
       "            <td>4.067   </td> <td>73  </td>\n",
       "        </tr>\n",
       "        <tr>\n",
       "            <td>4.933   </td> <td>88  </td>\n",
       "        </tr>\n",
       "        <tr>\n",
       "            <td>3.95    </td> <td>76  </td>\n",
       "        </tr>\n",
       "        <tr>\n",
       "            <td>4.517   </td> <td>80  </td>\n",
       "        </tr>\n",
       "        <tr>\n",
       "            <td>2.167   </td> <td>48  </td>\n",
       "        </tr>\n",
       "        <tr>\n",
       "            <td>4       </td> <td>86  </td>\n",
       "        </tr>\n",
       "        <tr>\n",
       "            <td>2.2     </td> <td>60  </td>\n",
       "        </tr>\n",
       "        <tr>\n",
       "            <td>4.333   </td> <td>90  </td>\n",
       "        </tr>\n",
       "        <tr>\n",
       "            <td>1.867   </td> <td>50  </td>\n",
       "        </tr>\n",
       "        <tr>\n",
       "            <td>4.817   </td> <td>78  </td>\n",
       "        </tr>\n",
       "        <tr>\n",
       "            <td>1.833   </td> <td>63  </td>\n",
       "        </tr>\n",
       "        <tr>\n",
       "            <td>4.3     </td> <td>72  </td>\n",
       "        </tr>\n",
       "        <tr>\n",
       "            <td>4.667   </td> <td>84  </td>\n",
       "        </tr>\n",
       "        <tr>\n",
       "            <td>3.75    </td> <td>75  </td>\n",
       "        </tr>\n",
       "        <tr>\n",
       "            <td>1.867   </td> <td>51  </td>\n",
       "        </tr>\n",
       "        <tr>\n",
       "            <td>4.9     </td> <td>82  </td>\n",
       "        </tr>\n",
       "        <tr>\n",
       "            <td>2.483   </td> <td>62  </td>\n",
       "        </tr>\n",
       "        <tr>\n",
       "            <td>4.367   </td> <td>88  </td>\n",
       "        </tr>\n",
       "        <tr>\n",
       "            <td>2.1     </td> <td>49  </td>\n",
       "        </tr>\n",
       "        <tr>\n",
       "            <td>4.5     </td> <td>83  </td>\n",
       "        </tr>\n",
       "        <tr>\n",
       "            <td>4.05    </td> <td>81  </td>\n",
       "        </tr>\n",
       "        <tr>\n",
       "            <td>1.867   </td> <td>47  </td>\n",
       "        </tr>\n",
       "        <tr>\n",
       "            <td>4.7     </td> <td>84  </td>\n",
       "        </tr>\n",
       "        <tr>\n",
       "            <td>1.783   </td> <td>52  </td>\n",
       "        </tr>\n",
       "        <tr>\n",
       "            <td>4.85    </td> <td>86  </td>\n",
       "        </tr>\n",
       "        <tr>\n",
       "            <td>3.683   </td> <td>81  </td>\n",
       "        </tr>\n",
       "        <tr>\n",
       "            <td>4.733   </td> <td>75  </td>\n",
       "        </tr>\n",
       "        <tr>\n",
       "            <td>2.3     </td> <td>59  </td>\n",
       "        </tr>\n",
       "        <tr>\n",
       "            <td>4.9     </td> <td>89  </td>\n",
       "        </tr>\n",
       "        <tr>\n",
       "            <td>4.417   </td> <td>79  </td>\n",
       "        </tr>\n",
       "        <tr>\n",
       "            <td>1.7     </td> <td>59  </td>\n",
       "        </tr>\n",
       "        <tr>\n",
       "            <td>4.633   </td> <td>81  </td>\n",
       "        </tr>\n",
       "        <tr>\n",
       "            <td>2.317   </td> <td>50  </td>\n",
       "        </tr>\n",
       "        <tr>\n",
       "            <td>4.6     </td> <td>85  </td>\n",
       "        </tr>\n",
       "        <tr>\n",
       "            <td>1.817   </td> <td>59  </td>\n",
       "        </tr>\n",
       "        <tr>\n",
       "            <td>4.417   </td> <td>87  </td>\n",
       "        </tr>\n",
       "        <tr>\n",
       "            <td>2.617   </td> <td>53  </td>\n",
       "        </tr>\n",
       "        <tr>\n",
       "            <td>4.067   </td> <td>69  </td>\n",
       "        </tr>\n",
       "        <tr>\n",
       "            <td>4.25    </td> <td>77  </td>\n",
       "        </tr>\n",
       "        <tr>\n",
       "            <td>1.967   </td> <td>56  </td>\n",
       "        </tr>\n",
       "        <tr>\n",
       "            <td>4.6     </td> <td>88  </td>\n",
       "        </tr>\n",
       "        <tr>\n",
       "            <td>3.767   </td> <td>81  </td>\n",
       "        </tr>\n",
       "        <tr>\n",
       "            <td>1.917   </td> <td>45  </td>\n",
       "        </tr>\n",
       "        <tr>\n",
       "            <td>4.5     </td> <td>82  </td>\n",
       "        </tr>\n",
       "        <tr>\n",
       "            <td>2.267   </td> <td>55  </td>\n",
       "        </tr>\n",
       "        <tr>\n",
       "            <td>4.65    </td> <td>90  </td>\n",
       "        </tr>\n",
       "        <tr>\n",
       "            <td>1.867   </td> <td>45  </td>\n",
       "        </tr>\n",
       "        <tr>\n",
       "            <td>4.167   </td> <td>83  </td>\n",
       "        </tr>\n",
       "        <tr>\n",
       "            <td>2.8     </td> <td>56  </td>\n",
       "        </tr>\n",
       "        <tr>\n",
       "            <td>4.333   </td> <td>89  </td>\n",
       "        </tr>\n",
       "        <tr>\n",
       "            <td>1.833   </td> <td>46  </td>\n",
       "        </tr>\n",
       "        <tr>\n",
       "            <td>4.383   </td> <td>82  </td>\n",
       "        </tr>\n",
       "        <tr>\n",
       "            <td>1.883   </td> <td>51  </td>\n",
       "        </tr>\n",
       "        <tr>\n",
       "            <td>4.933   </td> <td>86  </td>\n",
       "        </tr>\n",
       "        <tr>\n",
       "            <td>2.033   </td> <td>53  </td>\n",
       "        </tr>\n",
       "        <tr>\n",
       "            <td>3.733   </td> <td>79  </td>\n",
       "        </tr>\n",
       "        <tr>\n",
       "            <td>4.233   </td> <td>81  </td>\n",
       "        </tr>\n",
       "        <tr>\n",
       "            <td>2.233   </td> <td>60  </td>\n",
       "        </tr>\n",
       "        <tr>\n",
       "            <td>4.533   </td> <td>82  </td>\n",
       "        </tr>\n",
       "        <tr>\n",
       "            <td>4.817   </td> <td>77  </td>\n",
       "        </tr>\n",
       "        <tr>\n",
       "            <td>4.333   </td> <td>76  </td>\n",
       "        </tr>\n",
       "        <tr>\n",
       "            <td>1.983   </td> <td>59  </td>\n",
       "        </tr>\n",
       "        <tr>\n",
       "            <td>4.633   </td> <td>80  </td>\n",
       "        </tr>\n",
       "        <tr>\n",
       "            <td>2.017   </td> <td>49  </td>\n",
       "        </tr>\n",
       "        <tr>\n",
       "            <td>5.1     </td> <td>96  </td>\n",
       "        </tr>\n",
       "        <tr>\n",
       "            <td>1.8     </td> <td>53  </td>\n",
       "        </tr>\n",
       "        <tr>\n",
       "            <td>5.033   </td> <td>77  </td>\n",
       "        </tr>\n",
       "        <tr>\n",
       "            <td>4       </td> <td>77  </td>\n",
       "        </tr>\n",
       "        <tr>\n",
       "            <td>2.4     </td> <td>65  </td>\n",
       "        </tr>\n",
       "        <tr>\n",
       "            <td>4.6     </td> <td>81  </td>\n",
       "        </tr>\n",
       "        <tr>\n",
       "            <td>3.567   </td> <td>71  </td>\n",
       "        </tr>\n",
       "        <tr>\n",
       "            <td>4       </td> <td>70  </td>\n",
       "        </tr>\n",
       "        <tr>\n",
       "            <td>4.5     </td> <td>81  </td>\n",
       "        </tr>\n",
       "        <tr>\n",
       "            <td>4.083   </td> <td>93  </td>\n",
       "        </tr>\n",
       "        <tr>\n",
       "            <td>1.8     </td> <td>53  </td>\n",
       "        </tr>\n",
       "        <tr>\n",
       "            <td>3.967   </td> <td>89  </td>\n",
       "        </tr>\n",
       "        <tr>\n",
       "            <td>2.2     </td> <td>45  </td>\n",
       "        </tr>\n",
       "        <tr>\n",
       "            <td>4.15    </td> <td>86  </td>\n",
       "        </tr>\n",
       "        <tr>\n",
       "            <td>2       </td> <td>58  </td>\n",
       "        </tr>\n",
       "        <tr>\n",
       "            <td>3.833   </td> <td>78  </td>\n",
       "        </tr>\n",
       "        <tr>\n",
       "            <td>3.5     </td> <td>66  </td>\n",
       "        </tr>\n",
       "        <tr>\n",
       "            <td>4.583   </td> <td>76  </td>\n",
       "        </tr>\n",
       "        <tr>\n",
       "            <td>2.367   </td> <td>63  </td>\n",
       "        </tr>\n",
       "        <tr>\n",
       "            <td>5       </td> <td>88  </td>\n",
       "        </tr>\n",
       "        <tr>\n",
       "            <td>1.933   </td> <td>52  </td>\n",
       "        </tr>\n",
       "        <tr>\n",
       "            <td>4.617   </td> <td>93  </td>\n",
       "        </tr>\n",
       "        <tr>\n",
       "            <td>1.917   </td> <td>49  </td>\n",
       "        </tr>\n",
       "        <tr>\n",
       "            <td>2.083   </td> <td>57  </td>\n",
       "        </tr>\n",
       "        <tr>\n",
       "            <td>4.583   </td> <td>77  </td>\n",
       "        </tr>\n",
       "        <tr>\n",
       "            <td>3.333   </td> <td>68  </td>\n",
       "        </tr>\n",
       "        <tr>\n",
       "            <td>4.167   </td> <td>81  </td>\n",
       "        </tr>\n",
       "        <tr>\n",
       "            <td>4.333   </td> <td>81  </td>\n",
       "        </tr>\n",
       "        <tr>\n",
       "            <td>4.5     </td> <td>73  </td>\n",
       "        </tr>\n",
       "        <tr>\n",
       "            <td>2.417   </td> <td>50  </td>\n",
       "        </tr>\n",
       "        <tr>\n",
       "            <td>4       </td> <td>85  </td>\n",
       "        </tr>\n",
       "        <tr>\n",
       "            <td>4.167   </td> <td>74  </td>\n",
       "        </tr>\n",
       "        <tr>\n",
       "            <td>1.883   </td> <td>55  </td>\n",
       "        </tr>\n",
       "        <tr>\n",
       "            <td>4.583   </td> <td>77  </td>\n",
       "        </tr>\n",
       "        <tr>\n",
       "            <td>4.25    </td> <td>83  </td>\n",
       "        </tr>\n",
       "        <tr>\n",
       "            <td>3.767   </td> <td>83  </td>\n",
       "        </tr>\n",
       "        <tr>\n",
       "            <td>2.033   </td> <td>51  </td>\n",
       "        </tr>\n",
       "        <tr>\n",
       "            <td>4.433   </td> <td>78  </td>\n",
       "        </tr>\n",
       "        <tr>\n",
       "            <td>4.083   </td> <td>84  </td>\n",
       "        </tr>\n",
       "        <tr>\n",
       "            <td>1.833   </td> <td>46  </td>\n",
       "        </tr>\n",
       "        <tr>\n",
       "            <td>4.417   </td> <td>83  </td>\n",
       "        </tr>\n",
       "        <tr>\n",
       "            <td>2.183   </td> <td>55  </td>\n",
       "        </tr>\n",
       "        <tr>\n",
       "            <td>4.8     </td> <td>81  </td>\n",
       "        </tr>\n",
       "        <tr>\n",
       "            <td>1.833   </td> <td>57  </td>\n",
       "        </tr>\n",
       "        <tr>\n",
       "            <td>4.8     </td> <td>76  </td>\n",
       "        </tr>\n",
       "        <tr>\n",
       "            <td>4.1     </td> <td>84  </td>\n",
       "        </tr>\n",
       "        <tr>\n",
       "            <td>3.966   </td> <td>77  </td>\n",
       "        </tr>\n",
       "        <tr>\n",
       "            <td>4.233   </td> <td>81  </td>\n",
       "        </tr>\n",
       "        <tr>\n",
       "            <td>3.5     </td> <td>87  </td>\n",
       "        </tr>\n",
       "        <tr>\n",
       "            <td>4.366   </td> <td>77  </td>\n",
       "        </tr>\n",
       "        <tr>\n",
       "            <td>2.25    </td> <td>51  </td>\n",
       "        </tr>\n",
       "        <tr>\n",
       "            <td>4.667   </td> <td>78  </td>\n",
       "        </tr>\n",
       "        <tr>\n",
       "            <td>2.1     </td> <td>60  </td>\n",
       "        </tr>\n",
       "        <tr>\n",
       "            <td>4.35    </td> <td>82  </td>\n",
       "        </tr>\n",
       "        <tr>\n",
       "            <td>4.133   </td> <td>91  </td>\n",
       "        </tr>\n",
       "        <tr>\n",
       "            <td>1.867   </td> <td>53  </td>\n",
       "        </tr>\n",
       "        <tr>\n",
       "            <td>4.6     </td> <td>78  </td>\n",
       "        </tr>\n",
       "        <tr>\n",
       "            <td>1.783   </td> <td>46  </td>\n",
       "        </tr>\n",
       "        <tr>\n",
       "            <td>4.367   </td> <td>77  </td>\n",
       "        </tr>\n",
       "        <tr>\n",
       "            <td>3.85    </td> <td>84  </td>\n",
       "        </tr>\n",
       "        <tr>\n",
       "            <td>1.933   </td> <td>49  </td>\n",
       "        </tr>\n",
       "        <tr>\n",
       "            <td>4.5     </td> <td>83  </td>\n",
       "        </tr>\n",
       "        <tr>\n",
       "            <td>2.383   </td> <td>71  </td>\n",
       "        </tr>\n",
       "        <tr>\n",
       "            <td>4.7     </td> <td>80  </td>\n",
       "        </tr>\n",
       "        <tr>\n",
       "            <td>1.867   </td> <td>49  </td>\n",
       "        </tr>\n",
       "        <tr>\n",
       "            <td>3.833   </td> <td>75  </td>\n",
       "        </tr>\n",
       "        <tr>\n",
       "            <td>3.417   </td> <td>64  </td>\n",
       "        </tr>\n",
       "        <tr>\n",
       "            <td>4.233   </td> <td>76  </td>\n",
       "        </tr>\n",
       "        <tr>\n",
       "            <td>2.4     </td> <td>53  </td>\n",
       "        </tr>\n",
       "        <tr>\n",
       "            <td>4.8     </td> <td>94  </td>\n",
       "        </tr>\n",
       "        <tr>\n",
       "            <td>2       </td> <td>55  </td>\n",
       "        </tr>\n",
       "        <tr>\n",
       "            <td>4.15    </td> <td>76  </td>\n",
       "        </tr>\n",
       "        <tr>\n",
       "            <td>1.867   </td> <td>50  </td>\n",
       "        </tr>\n",
       "        <tr>\n",
       "            <td>4.267   </td> <td>82  </td>\n",
       "        </tr>\n",
       "        <tr>\n",
       "            <td>1.75    </td> <td>54  </td>\n",
       "        </tr>\n",
       "        <tr>\n",
       "            <td>4.483   </td> <td>75  </td>\n",
       "        </tr>\n",
       "        <tr>\n",
       "            <td>4       </td> <td>78  </td>\n",
       "        </tr>\n",
       "        <tr>\n",
       "            <td>4.117   </td> <td>79  </td>\n",
       "        </tr>\n",
       "        <tr>\n",
       "            <td>4.083   </td> <td>78  </td>\n",
       "        </tr>\n",
       "        <tr>\n",
       "            <td>4.267   </td> <td>78  </td>\n",
       "        </tr>\n",
       "        <tr>\n",
       "            <td>3.917   </td> <td>70  </td>\n",
       "        </tr>\n",
       "        <tr>\n",
       "            <td>4.55    </td> <td>79  </td>\n",
       "        </tr>\n",
       "        <tr>\n",
       "            <td>4.083   </td> <td>70  </td>\n",
       "        </tr>\n",
       "        <tr>\n",
       "            <td>2.417   </td> <td>54  </td>\n",
       "        </tr>\n",
       "        <tr>\n",
       "            <td>4.183   </td> <td>86  </td>\n",
       "        </tr>\n",
       "        <tr>\n",
       "            <td>2.217   </td> <td>50  </td>\n",
       "        </tr>\n",
       "        <tr>\n",
       "            <td>4.45    </td> <td>90  </td>\n",
       "        </tr>\n",
       "        <tr>\n",
       "            <td>1.883   </td> <td>54  </td>\n",
       "        </tr>\n",
       "        <tr>\n",
       "            <td>1.85    </td> <td>54  </td>\n",
       "        </tr>\n",
       "        <tr>\n",
       "            <td>4.283   </td> <td>77  </td>\n",
       "        </tr>\n",
       "        <tr>\n",
       "            <td>3.95    </td> <td>79  </td>\n",
       "        </tr>\n",
       "        <tr>\n",
       "            <td>2.333   </td> <td>64  </td>\n",
       "        </tr>\n",
       "        <tr>\n",
       "            <td>4.15    </td> <td>75  </td>\n",
       "        </tr>\n",
       "        <tr>\n",
       "            <td>2.35    </td> <td>47  </td>\n",
       "        </tr>\n",
       "        <tr>\n",
       "            <td>4.933   </td> <td>86  </td>\n",
       "        </tr>\n",
       "        <tr>\n",
       "            <td>2.9     </td> <td>63  </td>\n",
       "        </tr>\n",
       "        <tr>\n",
       "            <td>4.583   </td> <td>85  </td>\n",
       "        </tr>\n",
       "        <tr>\n",
       "            <td>3.833   </td> <td>82  </td>\n",
       "        </tr>\n",
       "        <tr>\n",
       "            <td>2.083   </td> <td>57  </td>\n",
       "        </tr>\n",
       "        <tr>\n",
       "            <td>4.367   </td> <td>82  </td>\n",
       "        </tr>\n",
       "        <tr>\n",
       "            <td>2.133   </td> <td>67  </td>\n",
       "        </tr>\n",
       "        <tr>\n",
       "            <td>4.35    </td> <td>74  </td>\n",
       "        </tr>\n",
       "        <tr>\n",
       "            <td>2.2     </td> <td>54  </td>\n",
       "        </tr>\n",
       "        <tr>\n",
       "            <td>4.45    </td> <td>83  </td>\n",
       "        </tr>\n",
       "        <tr>\n",
       "            <td>3.567   </td> <td>73  </td>\n",
       "        </tr>\n",
       "        <tr>\n",
       "            <td>4.5     </td> <td>73  </td>\n",
       "        </tr>\n",
       "        <tr>\n",
       "            <td>4.15    </td> <td>88  </td>\n",
       "        </tr>\n",
       "        <tr>\n",
       "            <td>3.817   </td> <td>80  </td>\n",
       "        </tr>\n",
       "        <tr>\n",
       "            <td>3.917   </td> <td>71  </td>\n",
       "        </tr>\n",
       "        <tr>\n",
       "            <td>4.45    </td> <td>83  </td>\n",
       "        </tr>\n",
       "        <tr>\n",
       "            <td>2       </td> <td>56  </td>\n",
       "        </tr>\n",
       "        <tr>\n",
       "            <td>4.283   </td> <td>79  </td>\n",
       "        </tr>\n",
       "        <tr>\n",
       "            <td>4.767   </td> <td>78  </td>\n",
       "        </tr>\n",
       "        <tr>\n",
       "            <td>4.533   </td> <td>84  </td>\n",
       "        </tr>\n",
       "        <tr>\n",
       "            <td>1.85    </td> <td>58  </td>\n",
       "        </tr>\n",
       "        <tr>\n",
       "            <td>4.25    </td> <td>83  </td>\n",
       "        </tr>\n",
       "        <tr>\n",
       "            <td>1.983   </td> <td>43  </td>\n",
       "        </tr>\n",
       "        <tr>\n",
       "            <td>2.25    </td> <td>60  </td>\n",
       "        </tr>\n",
       "        <tr>\n",
       "            <td>4.75    </td> <td>75  </td>\n",
       "        </tr>\n",
       "        <tr>\n",
       "            <td>4.117   </td> <td>81  </td>\n",
       "        </tr>\n",
       "        <tr>\n",
       "            <td>2.15    </td> <td>46  </td>\n",
       "        </tr>\n",
       "        <tr>\n",
       "            <td>4.417   </td> <td>90  </td>\n",
       "        </tr>\n",
       "        <tr>\n",
       "            <td>1.817   </td> <td>46  </td>\n",
       "        </tr>\n",
       "        <tr>\n",
       "            <td>4.467   </td> <td>74  </td>\n",
       "        </tr>\n",
       "    </tbody>\n",
       "</table>"
      ],
      "text/plain": [
       "<IPython.core.display.HTML object>"
      ]
     },
     "metadata": {},
     "output_type": "display_data"
    }
   ],
   "source": [
    "faithful.show()"
   ]
  },
  {
   "cell_type": "code",
   "execution_count": 9,
   "id": "13e8fb6f",
   "metadata": {
    "for_assignment_type": "solution",
    "tags": []
   },
   "outputs": [
    {
     "data": {
      "text/html": [
       "<table border=\"1\" class=\"dataframe\">\n",
       "    <thead>\n",
       "        <tr>\n",
       "            <th>duration (standard units)</th> <th>wait (standard units)</th>\n",
       "        </tr>\n",
       "    </thead>\n",
       "    <tbody>\n",
       "        <tr>\n",
       "            <td>0.0984989                </td> <td>0.597123             </td>\n",
       "        </tr>\n",
       "        <tr>\n",
       "            <td>-1.48146                 </td> <td>-1.24518             </td>\n",
       "        </tr>\n",
       "        <tr>\n",
       "            <td>-0.135861                </td> <td>0.228663             </td>\n",
       "        </tr>\n",
       "        <tr>\n",
       "            <td>-1.0575                  </td> <td>-0.655644            </td>\n",
       "        </tr>\n",
       "        <tr>\n",
       "            <td>0.917443                 </td> <td>1.03928              </td>\n",
       "        </tr>\n",
       "        <tr>\n",
       "            <td>-0.530851                </td> <td>-1.17149             </td>\n",
       "        </tr>\n",
       "        <tr>\n",
       "            <td>1.06403                  </td> <td>1.26035              </td>\n",
       "        </tr>\n",
       "        <tr>\n",
       "            <td>0.0984989                </td> <td>1.03928              </td>\n",
       "        </tr>\n",
       "        <tr>\n",
       "            <td>-1.3498                  </td> <td>-1.46626             </td>\n",
       "        </tr>\n",
       "        <tr>\n",
       "            <td>0.756814                 </td> <td>1.03928              </td>\n",
       "        </tr>\n",
       "    </tbody>\n",
       "</table>\n",
       "<p>... (262 rows omitted)</p>"
      ],
      "text/plain": [
       "duration (standard units) | wait (standard units)\n",
       "0.0984989                 | 0.597123\n",
       "-1.48146                  | -1.24518\n",
       "-0.135861                 | 0.228663\n",
       "-1.0575                   | -0.655644\n",
       "0.917443                  | 1.03928\n",
       "-0.530851                 | -1.17149\n",
       "1.06403                   | 1.26035\n",
       "0.0984989                 | 1.03928\n",
       "-1.3498                   | -1.46626\n",
       "0.756814                  | 1.03928\n",
       "... (262 rows omitted)"
      ]
     },
     "execution_count": 9,
     "metadata": {},
     "output_type": "execute_result"
    }
   ],
   "source": [
    "duration_mean = np.mean(faithful.column('duration'))\n",
    "duration_std = np.std(faithful.column('duration'))\n",
    "wait_mean = np.mean(faithful.column('wait'))\n",
    "wait_std = np.std(faithful.column('wait'))\n",
    "\n",
    "faithful_standard = Table().with_columns(\n",
    "    \"duration (standard units)\", (faithful.column('duration') - duration_mean) / duration_std ,\n",
    "    \"wait (standard units)\", (faithful.column('wait') - wait_mean) / wait_std )\n",
    "faithful_standard"
   ]
  },
  {
   "cell_type": "code",
   "execution_count": 10,
   "id": "444b163c",
   "metadata": {
    "deletable": false,
    "editable": false
   },
   "outputs": [
    {
     "data": {
      "text/html": [
       "<p><strong><pre style='display: inline;'>q1_3</pre></strong> passed! 🎉</p>"
      ],
      "text/plain": [
       "q1_3 results: All test cases passed!"
      ]
     },
     "execution_count": 10,
     "metadata": {},
     "output_type": "execute_result"
    }
   ],
   "source": [
    "grader.check(\"q1_3\")"
   ]
  },
  {
   "cell_type": "markdown",
   "id": "a1d0a489",
   "metadata": {},
   "source": [
    "<hr style=\"border: 1px solid #fdb515;\" />\n",
    "\n",
    "**Question 1.4.** Plot the data again, but this time in standard units."
   ]
  },
  {
   "cell_type": "code",
   "execution_count": 11,
   "id": "47488579",
   "metadata": {
    "tags": []
   },
   "outputs": [
    {
     "data": {
      "image/png": "[encoded data removed]",
      "text/plain": [
       "<Figure size 500x500 with 1 Axes>"
      ]
     },
     "metadata": {},
     "output_type": "display_data"
    }
   ],
   "source": [
    "faithful_standard.scatter(faithful_standard.labels[0], faithful_standard.labels[1])"
   ]
  },
  {
   "cell_type": "markdown",
   "id": "f86f475f",
   "metadata": {},
   "source": [
    "You'll notice that this plot looks the same as the last one!  However, the data and axes are scaled differently.  So it's important to read the ticks on the axes."
   ]
  },
  {
   "cell_type": "markdown",
   "id": "82e56b83",
   "metadata": {},
   "source": [
    "<hr style=\"border: 1px solid #fdb515;\" />\n",
    "\n",
    "**Question 1.5.** Among the following numbers, which would you guess is closest to the correlation between eruption duration and waiting time in this dataset?\n",
    "\n",
    "1. -2\n",
    "2. -1\n",
    "3. 0\n",
    "4. 1\n",
    "5. 2\n",
    "\n",
    "Assign `correlation` to the number corresponding to your guess (either 1, 2 3, 4, or 5).\n"
   ]
  },
  {
   "cell_type": "code",
   "execution_count": 12,
   "id": "4cc10cfd",
   "metadata": {
    "tags": []
   },
   "outputs": [],
   "source": [
    "correlation = 4"
   ]
  },
  {
   "cell_type": "code",
   "execution_count": 13,
   "id": "707ba0c5",
   "metadata": {
    "deletable": false,
    "editable": false
   },
   "outputs": [
    {
     "data": {
      "text/html": [
       "<p><strong><pre style='display: inline;'>q1_5</pre></strong> passed! 🚀</p>"
      ],
      "text/plain": [
       "q1_5 results: All test cases passed!"
      ]
     },
     "execution_count": 13,
     "metadata": {},
     "output_type": "execute_result"
    }
   ],
   "source": [
    "grader.check(\"q1_5\")"
   ]
  },
  {
   "cell_type": "markdown",
   "id": "325c1585",
   "metadata": {},
   "source": [
    "<hr style=\"border: 1px solid #fdb515;\" />\n",
    "\n",
    "**Question 1.6.** Compute the correlation coefficient: `r`.  \n",
    "\n",
    "*Hint:* Use `faithful_standard`.  Section [15.1](https://www.inferentialthinking.com/chapters/15/1/Correlation.html#calculating-r) explains how to do this."
   ]
  },
  {
   "cell_type": "code",
   "execution_count": 14,
   "id": "d8245f30",
   "metadata": {
    "tags": []
   },
   "outputs": [
    {
     "data": {
      "text/plain": [
       "0.90081116832181318"
      ]
     },
     "execution_count": 14,
     "metadata": {},
     "output_type": "execute_result"
    }
   ],
   "source": [
    "r = np.mean(faithful_standard.column(1) * faithful_standard.column(0))\n",
    "r"
   ]
  },
  {
   "cell_type": "code",
   "execution_count": 15,
   "id": "749d9f9e",
   "metadata": {
    "deletable": false,
    "editable": false
   },
   "outputs": [
    {
     "data": {
      "text/html": [
       "<p><strong><pre style='display: inline;'>q1_6</pre></strong> passed! 💯</p>"
      ],
      "text/plain": [
       "q1_6 results: All test cases passed!"
      ]
     },
     "execution_count": 15,
     "metadata": {},
     "output_type": "execute_result"
    }
   ],
   "source": [
    "grader.check(\"q1_6\")"
   ]
  },
  {
   "cell_type": "markdown",
   "id": "d4b2e65e",
   "metadata": {},
   "source": [
    "<hr style=\"border: 5px solid #003262;\" />\n",
    "<hr style=\"border: 1px solid #fdb515;\" />\n",
    "\n",
    "## 2. The regression line\n",
    "Recall that the **correlation** is the **slope of the regression line when the data are put in standard units**.\n",
    "\n",
    "The next cell plots the regression line in standard units:\n",
    "\n",
    "$$\\text{waiting time in standard units} = r \\times \\text{eruption duration in standard units}$$\n",
    "\n",
    "Then, it plots the data in standard units again, for comparison."
   ]
  },
  {
   "cell_type": "code",
   "execution_count": 16,
   "id": "9d0e285c",
   "metadata": {},
   "outputs": [
    {
     "data": {
      "image/png": "[encoded data removed]",
      "text/plain": [
       "<Figure size 500x500 with 1 Axes>"
      ]
     },
     "metadata": {},
     "output_type": "display_data"
    }
   ],
   "source": [
    "def plot_data_and_line(dataset, x, y, point_0, point_1):\n",
    "    \"\"\"Makes a scatter plot of the dataset, along with a line passing through two points.\"\"\"\n",
    "    dataset.scatter(x, y, label=\"data\")\n",
    "    xs, ys = zip(point_0, point_1)\n",
    "    plots.plot(xs, ys, label=\"regression line\")\n",
    "    plots.legend(bbox_to_anchor=(1.5,.8))\n",
    "\n",
    "plot_data_and_line(faithful_standard, \n",
    "                   \"duration (standard units)\", \n",
    "                   \"wait (standard units)\", \n",
    "                   [-2, -2*r], \n",
    "                   [2, 2*r])"
   ]
  },
  {
   "cell_type": "markdown",
   "id": "cc68efa9",
   "metadata": {},
   "source": [
    "How would you take a point in standard units and convert it back to original units?  We'd have to \"stretch\" its horizontal position by `duration_std` and its vertical position by `wait_std`. That means the same thing would happen to the slope of the line.\n",
    "\n",
    "Stretching a line horizontally makes it less steep, so we divide the slope by the horizontal stretching factor. Stretching a line vertically makes it more steep, so we multiply the slope by the vertical stretching factor.\n",
    "\n",
    "\n",
    "<hr style=\"border: 1px solid #fdb515;\" />\n",
    "\n",
    "\n",
    "**Question 2.1.** Calculate the slope of the regression line in original units, and assign it to `slope`.\n",
    "\n",
    "(If the \"stretching\" explanation is unintuitive, consult section [15.2](https://www.inferentialthinking.com/chapters/15/2/Regression_Line.html#the-equation-of-the-regression-line) in the textbook.)\n"
   ]
  },
  {
   "cell_type": "code",
   "execution_count": 17,
   "id": "e44e1e1a",
   "metadata": {
    "tags": []
   },
   "outputs": [
    {
     "data": {
      "text/plain": [
       "10.729641395133529"
      ]
     },
     "execution_count": 17,
     "metadata": {},
     "output_type": "execute_result"
    }
   ],
   "source": [
    "slope = r * np.std(faithful.column(1)) / np.std(faithful.column(0))\n",
    "slope"
   ]
  },
  {
   "cell_type": "code",
   "execution_count": 18,
   "id": "5c81623c",
   "metadata": {
    "deletable": false,
    "editable": false
   },
   "outputs": [
    {
     "data": {
      "text/html": [
       "<p><strong><pre style='display: inline;'>q2_1</pre></strong> passed! 💯</p>"
      ],
      "text/plain": [
       "q2_1 results: All test cases passed!"
      ]
     },
     "execution_count": 18,
     "metadata": {},
     "output_type": "execute_result"
    }
   ],
   "source": [
    "grader.check(\"q2_1\")"
   ]
  },
  {
   "cell_type": "markdown",
   "id": "f0525181",
   "metadata": {},
   "source": [
    "<hr style=\"border: 1px solid #fdb515;\" />\n",
    "\n",
    "We know that the regression line passes through the point `(duration_mean, wait_mean)`. Recall that the general equation of the regression line in original units is:\n",
    "\n",
    "$$ \\text{estimate of y} = \\text{slope of the regression line} \\cdot \\text{x} + \\text{intercept of the regression line}$$\n",
    "\n",
    "For this scenario, that would become:\n",
    "\n",
    "$$ \\text{estimated waiting time} = \\text{slope} \\cdot \\text{eruption duration} + (\\text{wait mean} - \\text{slope} \\cdot \\text{duration mean})$$\n",
    "\n",
    "**Question 2.2.** Calculate the intercept in original units and assign it to `intercept`. [Section 15.2.5](https://inferentialthinking.com/chapters/15/2/Regression_Line.html#the-equation-of-the-regression-line) may be helpful.\n"
   ]
  },
  {
   "cell_type": "code",
   "execution_count": 19,
   "id": "963a3f33",
   "metadata": {
    "tags": []
   },
   "outputs": [
    {
     "data": {
      "text/plain": [
       "33.474397022753344"
      ]
     },
     "execution_count": 19,
     "metadata": {},
     "output_type": "execute_result"
    }
   ],
   "source": [
    "intercept = np.mean(faithful.column(1)) - slope * np.mean(faithful.column(0))\n",
    "intercept"
   ]
  },
  {
   "cell_type": "code",
   "execution_count": 20,
   "id": "b89fcddb",
   "metadata": {
    "deletable": false,
    "editable": false
   },
   "outputs": [
    {
     "data": {
      "text/html": [
       "<p><strong><pre style='display: inline;'>q2_2</pre></strong> passed! 🌈</p>"
      ],
      "text/plain": [
       "q2_2 results: All test cases passed!"
      ]
     },
     "execution_count": 20,
     "metadata": {},
     "output_type": "execute_result"
    }
   ],
   "source": [
    "grader.check(\"q2_2\")"
   ]
  },
  {
   "cell_type": "markdown",
   "id": "ddd46a27",
   "metadata": {},
   "source": [
    "<hr style=\"border: 5px solid #003262;\" />\n",
    "<hr style=\"border: 1px solid #fdb515;\" />\n",
    "\n",
    "## 3. Investigating the regression line\n",
    "\n",
    "The slope and intercept tell you exactly what the regression line looks like.  To predict the waiting time for an eruption, multiply the eruption's duration by `slope` and then add `intercept`.\n",
    "\n",
    "<hr style=\"border: 1px solid #fdb515;\" />\n",
    "\n",
    "**Question 3.1.** Compute the predicted waiting time for an eruption that lasts 2 minutes, and for an eruption that lasts 5 minutes.\n"
   ]
  },
  {
   "cell_type": "code",
   "execution_count": 21,
   "id": "1f33db0f",
   "metadata": {
    "tags": []
   },
   "outputs": [
    {
     "name": "stdout",
     "output_type": "stream",
     "text": [
      "After an eruption lasting 2 minutes, we predict you'll wait 54.933679813 minutes until the next eruption.\n",
      "After an eruption lasting 5 minutes, we predict you'll wait 87.1226039984 minutes until the next eruption.\n"
     ]
    }
   ],
   "source": [
    "two_minute_predicted_waiting_time = slope * 2 + intercept\n",
    "five_minute_predicted_waiting_time = slope * 5 + intercept\n",
    "\n",
    "# Here is a helper function to print out your predictions.\n",
    "# Don't modify the code below.\n",
    "def print_prediction(duration, predicted_waiting_time):\n",
    "    print(\"After an eruption lasting\", duration,\n",
    "          \"minutes, we predict you'll wait\", predicted_waiting_time,\n",
    "          \"minutes until the next eruption.\")\n",
    "\n",
    "print_prediction(2, two_minute_predicted_waiting_time)\n",
    "print_prediction(5, five_minute_predicted_waiting_time)"
   ]
  },
  {
   "cell_type": "code",
   "execution_count": 22,
   "id": "57277fca",
   "metadata": {
    "deletable": false,
    "editable": false
   },
   "outputs": [
    {
     "data": {
      "text/html": [
       "<p><strong><pre style='display: inline;'>q3_1</pre></strong> passed! 🙌</p>"
      ],
      "text/plain": [
       "q3_1 results: All test cases passed!"
      ]
     },
     "execution_count": 22,
     "metadata": {},
     "output_type": "execute_result"
    }
   ],
   "source": [
    "grader.check(\"q3_1\")"
   ]
  },
  {
   "cell_type": "markdown",
   "id": "e2acf6ca",
   "metadata": {},
   "source": [
    "The next cell plots the line that goes between those two points, which is (a segment of) the regression line."
   ]
  },
  {
   "cell_type": "code",
   "execution_count": 23,
   "id": "818b7d15",
   "metadata": {
    "scrolled": true
   },
   "outputs": [
    {
     "data": {
      "image/png": "[encoded data removed]",
      "text/plain": [
       "<Figure size 500x500 with 1 Axes>"
      ]
     },
     "metadata": {},
     "output_type": "display_data"
    }
   ],
   "source": [
    "plot_data_and_line(faithful, \"duration\", \"wait\", \n",
    "                   [2, two_minute_predicted_waiting_time], \n",
    "                   [5, five_minute_predicted_waiting_time])"
   ]
  },
  {
   "cell_type": "markdown",
   "id": "bc9ce15d",
   "metadata": {},
   "source": [
    "<hr style=\"border: 1px solid #fdb515;\" />\n",
    "\n",
    "**Question 3.2.** Make predictions for the waiting time after each eruption in the `faithful` table.  (Of course, we know exactly what the waiting times were!  We are doing this so we can see how accurate our predictions are.)  Put these numbers into a column in a new table called `faithful_predictions`.  Its first row should look like this:\n",
    "\n",
    "|duration|wait|predicted wait|\n",
    "|-|-|-|\n",
    "|3.6|79|72.1011|\n",
    "\n",
    "*Hint:* Your answer can be just one line, though you are not limited to one line.  There is no need for a `for` loop; use array arithmetic instead.\n"
   ]
  },
  {
   "cell_type": "code",
   "execution_count": 24,
   "id": "0f1386e8",
   "metadata": {
    "tags": []
   },
   "outputs": [
    {
     "data": {
      "text/html": [
       "<table border=\"1\" class=\"dataframe\">\n",
       "    <thead>\n",
       "        <tr>\n",
       "            <th>duration</th> <th>wait</th> <th>predicted wait</th>\n",
       "        </tr>\n",
       "    </thead>\n",
       "    <tbody>\n",
       "        <tr>\n",
       "            <td>3.6     </td> <td>79  </td> <td>72.1011       </td>\n",
       "        </tr>\n",
       "        <tr>\n",
       "            <td>1.8     </td> <td>54  </td> <td>52.7878       </td>\n",
       "        </tr>\n",
       "        <tr>\n",
       "            <td>3.333   </td> <td>74  </td> <td>69.2363       </td>\n",
       "        </tr>\n",
       "        <tr>\n",
       "            <td>2.283   </td> <td>62  </td> <td>57.9702       </td>\n",
       "        </tr>\n",
       "        <tr>\n",
       "            <td>4.533   </td> <td>85  </td> <td>82.1119       </td>\n",
       "        </tr>\n",
       "        <tr>\n",
       "            <td>2.883   </td> <td>55  </td> <td>64.408        </td>\n",
       "        </tr>\n",
       "        <tr>\n",
       "            <td>4.7     </td> <td>88  </td> <td>83.9037       </td>\n",
       "        </tr>\n",
       "        <tr>\n",
       "            <td>3.6     </td> <td>85  </td> <td>72.1011       </td>\n",
       "        </tr>\n",
       "        <tr>\n",
       "            <td>1.95    </td> <td>51  </td> <td>54.3972       </td>\n",
       "        </tr>\n",
       "        <tr>\n",
       "            <td>4.35    </td> <td>85  </td> <td>80.1483       </td>\n",
       "        </tr>\n",
       "    </tbody>\n",
       "</table>\n",
       "<p>... (262 rows omitted)</p>"
      ],
      "text/plain": [
       "duration | wait | predicted wait\n",
       "3.6      | 79   | 72.1011\n",
       "1.8      | 54   | 52.7878\n",
       "3.333    | 74   | 69.2363\n",
       "2.283    | 62   | 57.9702\n",
       "4.533    | 85   | 82.1119\n",
       "2.883    | 55   | 64.408\n",
       "4.7      | 88   | 83.9037\n",
       "3.6      | 85   | 72.1011\n",
       "1.95     | 51   | 54.3972\n",
       "4.35     | 85   | 80.1483\n",
       "... (262 rows omitted)"
      ]
     },
     "execution_count": 24,
     "metadata": {},
     "output_type": "execute_result"
    }
   ],
   "source": [
    "faithful_predictions = faithful.with_columns(\n",
    "    'predicted wait', slope * faithful.column(0) + intercept\n",
    ")\n",
    "faithful_predictions"
   ]
  },
  {
   "cell_type": "code",
   "execution_count": 25,
   "id": "81d6d086",
   "metadata": {
    "deletable": false,
    "editable": false
   },
   "outputs": [
    {
     "data": {
      "text/html": [
       "<p><strong><pre style='display: inline;'>q3_2</pre></strong> passed! 🙌</p>"
      ],
      "text/plain": [
       "q3_2 results: All test cases passed!"
      ]
     },
     "execution_count": 25,
     "metadata": {},
     "output_type": "execute_result"
    }
   ],
   "source": [
    "grader.check(\"q3_2\")"
   ]
  },
  {
   "cell_type": "markdown",
   "id": "ab61ae7f",
   "metadata": {},
   "source": [
    "<hr style=\"border: 1px solid #fdb515;\" />\n",
    "\n",
    "**Question 3.3.** How close were we?  Compute the *residual* for each eruption in the dataset.  The residual is the actual waiting time minus the predicted waiting time.  Add the residuals to `faithful_predictions` as a new column called `residual` and name the resulting table `faithful_residuals`.\n",
    "\n",
    "As mentioned in [Chapter 15.6](https://inferentialthinking.com/chapters/15/6/Numerical_Diagnostics.html?highlight=residuals#average-of-residuals) a useful property of the residuals produced by linear regression with an intercept is that the sum of the residuals will always be zero. You can always check this to make sure you’ve calculated your residuals correctly. Note it may be slightly off from zero due to rounding errors.\n",
    "\n",
    "Feel free to copy and paste this line of code, to check your work! Note that the answer may be *very slightly* different from zero due to rounding errors in python.\n",
    "\n",
    "```python\n",
    "sum(faithful_residuals.column('residual'))\n",
    "```\n",
    "\n",
    "*Hint:* Again, your code will be much simpler if you don't use a `for` loop.\n"
   ]
  },
  {
   "cell_type": "code",
   "execution_count": 26,
   "id": "0b5526e3",
   "metadata": {
    "tags": []
   },
   "outputs": [
    {
     "data": {
      "text/html": [
       "<table border=\"1\" class=\"dataframe\">\n",
       "    <thead>\n",
       "        <tr>\n",
       "            <th>duration</th> <th>wait</th> <th>predicted wait</th> <th>residual</th>\n",
       "        </tr>\n",
       "    </thead>\n",
       "    <tbody>\n",
       "        <tr>\n",
       "            <td>3.6     </td> <td>79  </td> <td>72.1011       </td> <td>6.89889 </td>\n",
       "        </tr>\n",
       "        <tr>\n",
       "            <td>1.8     </td> <td>54  </td> <td>52.7878       </td> <td>1.21225 </td>\n",
       "        </tr>\n",
       "        <tr>\n",
       "            <td>3.333   </td> <td>74  </td> <td>69.2363       </td> <td>4.76371 </td>\n",
       "        </tr>\n",
       "        <tr>\n",
       "            <td>2.283   </td> <td>62  </td> <td>57.9702       </td> <td>4.02983 </td>\n",
       "        </tr>\n",
       "        <tr>\n",
       "            <td>4.533   </td> <td>85  </td> <td>82.1119       </td> <td>2.88814 </td>\n",
       "        </tr>\n",
       "        <tr>\n",
       "            <td>2.883   </td> <td>55  </td> <td>64.408        </td> <td>-9.40795</td>\n",
       "        </tr>\n",
       "        <tr>\n",
       "            <td>4.7     </td> <td>88  </td> <td>83.9037       </td> <td>4.09629 </td>\n",
       "        </tr>\n",
       "        <tr>\n",
       "            <td>3.6     </td> <td>85  </td> <td>72.1011       </td> <td>12.8989 </td>\n",
       "        </tr>\n",
       "        <tr>\n",
       "            <td>1.95    </td> <td>51  </td> <td>54.3972       </td> <td>-3.3972 </td>\n",
       "        </tr>\n",
       "        <tr>\n",
       "            <td>4.35    </td> <td>85  </td> <td>80.1483       </td> <td>4.85166 </td>\n",
       "        </tr>\n",
       "    </tbody>\n",
       "</table>\n",
       "<p>... (262 rows omitted)</p>"
      ],
      "text/plain": [
       "duration | wait | predicted wait | residual\n",
       "3.6      | 79   | 72.1011        | 6.89889\n",
       "1.8      | 54   | 52.7878        | 1.21225\n",
       "3.333    | 74   | 69.2363        | 4.76371\n",
       "2.283    | 62   | 57.9702        | 4.02983\n",
       "4.533    | 85   | 82.1119        | 2.88814\n",
       "2.883    | 55   | 64.408         | -9.40795\n",
       "4.7      | 88   | 83.9037        | 4.09629\n",
       "3.6      | 85   | 72.1011        | 12.8989\n",
       "1.95     | 51   | 54.3972        | -3.3972\n",
       "4.35     | 85   | 80.1483        | 4.85166\n",
       "... (262 rows omitted)"
      ]
     },
     "execution_count": 26,
     "metadata": {},
     "output_type": "execute_result"
    }
   ],
   "source": [
    "residuals = faithful_predictions.column(1) - faithful_predictions.column(2)\n",
    "faithful_residuals = faithful_predictions.with_column(\n",
    "    'residual', residuals\n",
    ")\n",
    "faithful_residuals"
   ]
  },
  {
   "cell_type": "code",
   "execution_count": 27,
   "id": "8801aab0",
   "metadata": {
    "deletable": false,
    "editable": false
   },
   "outputs": [
    {
     "data": {
      "text/html": [
       "<p><strong><pre style='display: inline;'>q3_3</pre></strong> passed! 🌈</p>"
      ],
      "text/plain": [
       "q3_3 results: All test cases passed!"
      ]
     },
     "execution_count": 27,
     "metadata": {},
     "output_type": "execute_result"
    }
   ],
   "source": [
    "grader.check(\"q3_3\")"
   ]
  },
  {
   "cell_type": "markdown",
   "id": "e3c26471",
   "metadata": {},
   "source": [
    "Here is a plot of the residuals you computed.  Each point corresponds to one eruption.  It shows how much our prediction over- or under-estimated the waiting time."
   ]
  },
  {
   "cell_type": "code",
   "execution_count": 28,
   "id": "59f4fee0",
   "metadata": {},
   "outputs": [
    {
     "data": {
      "image/png": "[encoded data removed]",
      "text/plain": [
       "<Figure size 500x500 with 1 Axes>"
      ]
     },
     "metadata": {},
     "output_type": "display_data"
    }
   ],
   "source": [
    "faithful_residuals.scatter(\"duration\", \"residual\", color=\"r\")"
   ]
  },
  {
   "cell_type": "markdown",
   "id": "b821924f",
   "metadata": {},
   "source": [
    "There isn't really a pattern in the residuals, which confirms that it was reasonable to try linear regression.  It's true that there are two separate clouds; the eruption durations seemed to fall into two distinct clusters.  But that's just a pattern in the eruption durations, not a pattern in the relationship between eruption durations and waiting times."
   ]
  },
  {
   "cell_type": "markdown",
   "id": "bbfd8b8b",
   "metadata": {},
   "source": [
    "<hr style=\"border: 5px solid #003262;\" />\n",
    "<hr style=\"border: 1px solid #fdb515;\" />\n",
    "\n",
    "## 4. How accurate are different predictions?\n",
    "Earlier, you should have found that the correlation is fairly close to 1, so the line fits fairly well on the training data.  That means the residuals are overall small (close to 0) in comparison to the waiting times.\n",
    "\n",
    "We can see that visually by plotting the waiting times and residuals together:"
   ]
  },
  {
   "cell_type": "code",
   "execution_count": 29,
   "id": "d4fd0d5c",
   "metadata": {},
   "outputs": [
    {
     "data": {
      "image/png": "[encoded data removed]",
      "text/plain": [
       "<Figure size 500x500 with 1 Axes>"
      ]
     },
     "metadata": {},
     "output_type": "display_data"
    }
   ],
   "source": [
    "# Just run this cell.\n",
    "faithful_residuals.scatter(\"duration\", \"wait\", label=\"actual waiting time\", color=\"blue\")\n",
    "plots.scatter(faithful_residuals.column(\"duration\"), faithful_residuals.column(\"residual\"), label=\"residual\", color=\"r\")\n",
    "plots.plot([2, 5], [two_minute_predicted_waiting_time, five_minute_predicted_waiting_time], label=\"regression line\")\n",
    "plots.legend(bbox_to_anchor=(1.7,.8));"
   ]
  },
  {
   "cell_type": "markdown",
   "id": "47b6356e",
   "metadata": {},
   "source": [
    "However, unless you have a strong reason to believe that the linear regression model is true, you should be wary of applying your prediction model to data that are very different from the training data."
   ]
  },
  {
   "cell_type": "markdown",
   "id": "76447173",
   "metadata": {},
   "source": [
    "<hr style=\"border: 1px solid #fdb515;\" />\n",
    "\n",
    "**Question 4.1.** In `faithful`, no eruption lasted exactly 0, 2.5, or 60 minutes.  Using this line, what is the predicted waiting time for an eruption that lasts 0 minutes?  2.5 minutes?  An hour?\n"
   ]
  },
  {
   "cell_type": "code",
   "execution_count": 30,
   "id": "dc6a2f30",
   "metadata": {
    "tags": []
   },
   "outputs": [
    {
     "name": "stdout",
     "output_type": "stream",
     "text": [
      "After an eruption lasting 0 minutes, we predict you'll wait 33.4743970228 minutes until the next eruption.\n",
      "After an eruption lasting 2.5 minutes, we predict you'll wait 60.2985005106 minutes until the next eruption.\n",
      "After an eruption lasting 60 minutes, we predict you'll wait 677.252880731 minutes until the next eruption.\n"
     ]
    }
   ],
   "source": [
    "zero_minute_predicted_waiting_time = 0 * slope + intercept\n",
    "two_point_five_minute_predicted_waiting_time = 2.5 * slope + intercept\n",
    "hour_predicted_waiting_time = 60 * slope + intercept\n",
    "\n",
    "print_prediction(0, zero_minute_predicted_waiting_time)\n",
    "print_prediction(2.5, two_point_five_minute_predicted_waiting_time)\n",
    "print_prediction(60, hour_predicted_waiting_time)"
   ]
  },
  {
   "cell_type": "code",
   "execution_count": 31,
   "id": "2d5394a8",
   "metadata": {
    "deletable": false,
    "editable": false
   },
   "outputs": [
    {
     "data": {
      "text/html": [
       "<p><strong><pre style='display: inline;'>q4_1</pre></strong> passed! 💯</p>"
      ],
      "text/plain": [
       "q4_1 results: All test cases passed!"
      ]
     },
     "execution_count": 31,
     "metadata": {},
     "output_type": "execute_result"
    }
   ],
   "source": [
    "grader.check(\"q4_1\")"
   ]
  },
  {
   "cell_type": "markdown",
   "id": "a789a519",
   "metadata": {},
   "source": [
    "<hr style=\"border: 1px solid #fdb515;\" />\n",
    "\n",
    "**Question 4.2.** For each prediction, state whether you think it's reliable and explain your reasoning. "
   ]
  },
  {
   "cell_type": "markdown",
   "id": "996deaf7",
   "metadata": {},
   "source": [
    "_Type your answer here, replacing this text._"
   ]
  },
  {
   "cell_type": "markdown",
   "id": "15e8f60d",
   "metadata": {},
   "source": [
    "<hr style=\"border: 5px solid #003262;\" />\n",
    "<hr style=\"border: 1px solid #fdb515;\" />\n",
    "\n",
    "## 5. Divide and Conquer"
   ]
  },
  {
   "cell_type": "markdown",
   "id": "02f51049",
   "metadata": {},
   "source": [
    "The scatter plot below shows the relationship between eruption durations on the x-axis and the wait time to the next eruption on the y-axis.\n",
    "\n",
    "It appears from the scatter diagram that there are two clusters of points: one for durations around 2 and another for durations between 3.5 and 5. A vertical line at 3 divides these two clusters."
   ]
  },
  {
   "cell_type": "code",
   "execution_count": 32,
   "id": "0ab9b157",
   "metadata": {
    "scrolled": true
   },
   "outputs": [
    {
     "data": {
      "image/png": "[encoded data removed]",
      "text/plain": [
       "<Figure size 500x500 with 1 Axes>"
      ]
     },
     "metadata": {},
     "output_type": "display_data"
    }
   ],
   "source": [
    "faithful.scatter(\"duration\", \"wait\", label=\"actual waiting time\", color=\"blue\")\n",
    "plots.plot([3, 3], [40, 100]);"
   ]
  },
  {
   "cell_type": "markdown",
   "id": "be290bb6",
   "metadata": {},
   "source": [
    "The `standardize` function from lecture appears below, which takes in a table with numerical columns and returns the same table with each column converted into standard units."
   ]
  },
  {
   "cell_type": "code",
   "execution_count": 33,
   "id": "2a6e1826",
   "metadata": {},
   "outputs": [],
   "source": [
    "# Just run this cell.\n",
    "\n",
    "def standard_units(any_numbers):\n",
    "    \"Convert any array of numbers to standard units.\"\n",
    "    return (any_numbers - np.mean(any_numbers)) / np.std(any_numbers)  \n",
    "\n",
    "def standardize(table):\n",
    "    \"\"\"Return a table in which all columns of t are converted to standard units.\"\"\"\n",
    "    t_su = Table()\n",
    "    for label in table.labels:\n",
    "        t_su = t_su.with_column(label + ' (su)', standard_units(table.column(label)))\n",
    "    return t_su"
   ]
  },
  {
   "cell_type": "markdown",
   "id": "a07d9f8a",
   "metadata": {},
   "source": [
    "<hr style=\"border: 1px solid #fdb515;\" />\n",
    "\n",
    "**Question 5.1.** Separately compute the correlation coefficient *r* for all the points with a duration below 3 **and then** for all the points with a duration above 3. To do so, create a function that computes `r` from a table, and then pass it two different tables of points, called `below_3` and `above_3`.\n",
    "\n",
    "*Hint:* You can assume that the table does not have any duration values that are exactly 3."
   ]
  },
  {
   "cell_type": "code",
   "execution_count": 34,
   "id": "c5cc0d03",
   "metadata": {
    "tags": []
   },
   "outputs": [
    {
     "name": "stdout",
     "output_type": "stream",
     "text": [
      "For points below 3, r is 0.290189526493 ; for points above 3, r is 0.372782225571\n"
     ]
    }
   ],
   "source": [
    "def corr_coeff(table):\n",
    "    \"\"\"Return the regression coefficient for columns 0 & 1.\"\"\"\n",
    "    t_su = standardize(table)\n",
    "    return np.corrcoef(t_su.column(0), t_su.column(1))[0,1]\n",
    "\n",
    "below_3 =  faithful.where('duration', are.below(3))\n",
    "above_3 =  faithful.where('duration', are.above(3))\n",
    "below_3_r = corr_coeff(below_3)\n",
    "above_3_r = corr_coeff(above_3)\n",
    "print(\"For points below 3, r is\", below_3_r, \"; for points above 3, r is\", above_3_r)"
   ]
  },
  {
   "cell_type": "code",
   "execution_count": 35,
   "id": "dcff5854",
   "metadata": {
    "deletable": false,
    "editable": false
   },
   "outputs": [
    {
     "data": {
      "text/html": [
       "<p><strong><pre style='display: inline;'>q5_1</pre></strong> passed! ✨</p>"
      ],
      "text/plain": [
       "q5_1 results: All test cases passed!"
      ]
     },
     "execution_count": 35,
     "metadata": {},
     "output_type": "execute_result"
    }
   ],
   "source": [
    "grader.check(\"q5_1\")"
   ]
  },
  {
   "cell_type": "markdown",
   "id": "f8a250ae",
   "metadata": {},
   "source": [
    "<hr style=\"border: 1px solid #fdb515;\" />\n",
    "\n",
    "**Question 5.2.** Complete the functions `slope_of` and `intercept_of` below. \n",
    "\n",
    "When you're done, the functions `wait_below_3` and `wait_above_3` should each use a different regression line to predict a wait time for a duration. The first function should use the regression line for all points with duration below 3. The second function should use the regression line for all points with duration above 3."
   ]
  },
  {
   "cell_type": "code",
   "execution_count": 36,
   "id": "52a59e7a",
   "metadata": {
    "tags": []
   },
   "outputs": [],
   "source": [
    "def slope_of(table, r):\n",
    "    \"\"\"Return the slope of the regression line for table in original units.\n",
    "    \n",
    "    Assume that column 0 contains x values and column 1 contains y values.\n",
    "    r is the regression coefficient for x and y.\n",
    "    \"\"\"\n",
    "    return r * np.std(table.column(1)) / np.std(table.column(0))\n",
    "\n",
    "def intercept_of(table, r):\n",
    "    \"\"\"Return the intercept of the regression line for table in original units.\n",
    "    \n",
    "    Assume that column 0 contains x values and column 1 contains y values.\n",
    "    r is the regression coefficient for x and y.\n",
    "    \"\"\"\n",
    "    slope = slope_of(table, r)\n",
    "    return np.mean(table.column(1)) - slope * np.mean(table.column(0))\n",
    "    \n",
    "below_3_slope = slope_of(below_3, below_3_r)\n",
    "below_3_intercept = intercept_of(below_3, below_3_r)\n",
    "above_3_slope = slope_of(above_3, above_3_r)\n",
    "above_3_intercept = intercept_of(above_3, above_3_r)\n",
    "\n",
    "def wait_below_3(duration):\n",
    "    return below_3_slope * duration + below_3_intercept\n",
    "\n",
    "def wait_above_3(duration):\n",
    "    return above_3_slope * duration + above_3_intercept"
   ]
  },
  {
   "cell_type": "code",
   "execution_count": 37,
   "id": "d6ea46f9",
   "metadata": {
    "deletable": false,
    "editable": false
   },
   "outputs": [
    {
     "data": {
      "text/html": [
       "<p><strong><pre style='display: inline;'>q5_2</pre></strong> passed! 🙌</p>"
      ],
      "text/plain": [
       "q5_2 results: All test cases passed!"
      ]
     },
     "execution_count": 37,
     "metadata": {},
     "output_type": "execute_result"
    }
   ],
   "source": [
    "grader.check(\"q5_2\")"
   ]
  },
  {
   "cell_type": "markdown",
   "id": "c0d6d8fb",
   "metadata": {},
   "source": [
    "The plot below shows the two different regression lines, one for each cluster, along with the original regression line!"
   ]
  },
  {
   "cell_type": "code",
   "execution_count": 38,
   "id": "fd1eaa18",
   "metadata": {},
   "outputs": [
    {
     "data": {
      "image/png": "[encoded data removed]",
      "text/plain": [
       "<Figure size 500x500 with 1 Axes>"
      ]
     },
     "metadata": {},
     "output_type": "display_data"
    }
   ],
   "source": [
    "faithful.scatter(0, 1)\n",
    "plots.plot([2, 5], [two_minute_predicted_waiting_time, five_minute_predicted_waiting_time])\n",
    "plots.plot([1, 3], [wait_below_3(1), wait_below_3(3)])\n",
    "plots.plot([3, 6], [wait_above_3(3), wait_above_3(6)]);"
   ]
  },
  {
   "cell_type": "markdown",
   "id": "b4e1d94c",
   "metadata": {},
   "source": [
    "<hr style=\"border: 1px solid #fdb515;\" />\n",
    "\n",
    "**Question 5.3.** Write a function `predict_wait` that takes a `duration` and returns the predicted wait time using the appropriate regression line, depending on whether the duration is below 3 or greater than 3.\n",
    "\n",
    "*Hint:* Consider using conditional statements."
   ]
  },
  {
   "cell_type": "code",
   "execution_count": 39,
   "id": "422ae8dc",
   "metadata": {
    "for_assignment_type": "student",
    "tags": []
   },
   "outputs": [],
   "source": [
    "def predict_wait(duration):\n",
    "    if duration <= 3:\n",
    "        return wait_below_3(duration)\n",
    "    return wait_above_3(duration)"
   ]
  },
  {
   "cell_type": "code",
   "execution_count": 40,
   "id": "d84e2813",
   "metadata": {
    "deletable": false,
    "editable": false
   },
   "outputs": [
    {
     "data": {
      "text/html": [
       "<p><strong><pre style='display: inline;'>q5_3</pre></strong> passed! 🌈</p>"
      ],
      "text/plain": [
       "q5_3 results: All test cases passed!"
      ]
     },
     "execution_count": 40,
     "metadata": {},
     "output_type": "execute_result"
    }
   ],
   "source": [
    "grader.check(\"q5_3\")"
   ]
  },
  {
   "cell_type": "markdown",
   "id": "0416ac73",
   "metadata": {},
   "source": [
    "The predicted wait times for each point appear below."
   ]
  },
  {
   "cell_type": "code",
   "execution_count": 41,
   "id": "402820c9",
   "metadata": {},
   "outputs": [
    {
     "data": {
      "image/png": "[encoded data removed]",
      "text/plain": [
       "<Figure size 500x500 with 1 Axes>"
      ]
     },
     "metadata": {},
     "output_type": "display_data"
    }
   ],
   "source": [
    "faithful_pred_split = faithful.with_column('predicted', faithful.apply(predict_wait, 'duration'))\n",
    "faithful_pred_split.scatter(0)"
   ]
  },
  {
   "cell_type": "markdown",
   "id": "7b2c793c",
   "metadata": {},
   "source": [
    "<hr style=\"border: 1px solid #fdb515;\" />\n",
    "\n",
    "**Question 5.4.** Do you think the predictions produced by `predict_wait` would be more or less accurate than the predictions from the regression line you created in section 2? How could you tell?"
   ]
  },
  {
   "cell_type": "markdown",
   "id": "e870fbfb",
   "metadata": {},
   "source": [
    "_Type your answer here, replacing this text._"
   ]
  },
  {
   "cell_type": "markdown",
   "id": "c343074e",
   "metadata": {},
   "source": [
    "The following cell will plot the residuals for each eruption in the dataset when we have one regression line and two regression lines. We also see the average magnitude of the residual values."
   ]
  },
  {
   "cell_type": "code",
   "execution_count": 42,
   "id": "966f19f0",
   "metadata": {
    "scrolled": true
   },
   "outputs": [
    {
     "name": "stdout",
     "output_type": "stream",
     "text": [
      "Average Magnitude of Residual Values for One Regression Line:  4.77872005877\n",
      "Average Magnitude of Residual Values for Two Regression Lines:  4.57575882719\n"
     ]
    },
    {
     "data": {
      "image/png": "[encoded data removed]",
      "text/plain": [
       "<Figure size 640x480 with 1 Axes>"
      ]
     },
     "metadata": {},
     "output_type": "display_data"
    }
   ],
   "source": [
    "# Just run this cell\n",
    "faithful_pred_split_residuals = faithful_pred_split.with_column('residual', faithful_pred_split.column(1) - faithful_pred_split.column(2))\n",
    "plots.scatter(faithful_residuals.column('duration'), faithful_residuals.column('residual'), label='one regression line')\n",
    "plots.scatter(faithful_pred_split_residuals.column('duration'), faithful_pred_split_residuals.column('residual'), label='two regression lines');\n",
    "plots.axis([1, 6, -15, 15])\n",
    "plots.legend(bbox_to_anchor=(1.5,.8));\n",
    "print(\"Average Magnitude of Residual Values for One Regression Line: \", np.mean(abs(faithful_residuals.column('residual'))))\n",
    "print(\"Average Magnitude of Residual Values for Two Regression Lines: \", np.mean(abs(faithful_pred_split_residuals.column('residual'))))"
   ]
  },
  {
   "cell_type": "markdown",
   "id": "bd600e81",
   "metadata": {},
   "source": [
    "The residual plot for the wait times when they are predicted by two regression lines (red) doesn't really have a pattern, which confirms that it was also appropriate to use linear regression in our \"Divide and Conquer\" scenario. How do the two residual plots compare?"
   ]
  },
  {
   "cell_type": "markdown",
   "id": "4b82c329",
   "metadata": {},
   "source": [
    "----- \n",
    "### Congrats on finishing Lab 09!\n",
    "\n",
    "<img src=\"murphy.jpg\" alt=\"Drawing of a dog\" width=\"300\"/>\n",
    "\n",
    "The first drawing of a Data 8 pet. Here's **Murphy**!"
   ]
  },
  {
   "attachments": {},
   "cell_type": "markdown",
   "id": "633787ae",
   "metadata": {},
   "source": [
    "\n",
    "---\n",
    "\n",
    "You're done with lab!\n",
    "\n",
    "**Important submission information:**\n",
    "- **Run all the tests** and verify that they all pass\n",
    "- **Save** from the **File** menu\n",
    "- **Run the final cell to generate the zip file**\n",
    "- **Click the link to download the zip file**\n",
    "- Then, go to [Gradescope](https://www.gradescope.com/courses/835871) and submit the zip file to the corresponding assignment. The name of this assignment is \"Lab XX Autograder\", where XX is the lab number -- 01, 02, 03, etc.\n",
    "\n",
    "- If you finish early in Regular Lab, **ask one of the staff members to check you off**.\n",
    "\n",
    "**It is your responsibility to make sure your work is saved before running the last cell.**\n"
   ]
  },
  {
   "cell_type": "markdown",
   "id": "cd61e140",
   "metadata": {
    "deletable": false,
    "editable": false
   },
   "source": [
    "## Submission\n",
    "\n",
    "Make sure you have run all cells in your notebook in order before running the cell below, so that all images/graphs appear in the output. The cell below will generate a zip file for you to submit. **Please save before exporting!**"
   ]
  },
  {
   "cell_type": "code",
   "execution_count": 43,
   "id": "8e04426d",
   "metadata": {
    "deletable": false,
    "editable": false
   },
   "outputs": [
    {
     "name": "stdout",
     "output_type": "stream",
     "text": [
      "Running your submission against local test cases...\n",
      "\n",
      "\n",
      "Your submission received the following results when run against available test cases:\n",
      "\n",
      "    q1_0 results:\n",
      "        q1_0 - 1 result:\n",
      "            ❌ Test case failed\n",
      "            Trying:\n",
      "                len(least_squares_order) == 4\n",
      "            Expecting:\n",
      "                True\n",
      "            **********************************************************************\n",
      "            Line 1, in q1_0 0\n",
      "            Failed example:\n",
      "                len(least_squares_order) == 4\n",
      "            Exception raised:\n",
      "                Traceback (most recent call last):\n",
      "                  File \"/home/xuananle/.pyenv/versions/3.10.12/lib/python3.10/doctest.py\", line 1350, in __run\n",
      "                    exec(compile(example.source, filename, \"single\",\n",
      "                  File \"<doctest q1_0 0[0]>\", line 1, in <module>\n",
      "                    len(least_squares_order) == 4\n",
      "                TypeError: object of type 'ellipsis' has no len()\n",
      "\n",
      "        q1_0 - 2 result:\n",
      "            ❌ Test case failed\n",
      "            Trying:\n",
      "                import hashlib # This imports a hashing library for the autograder.\n",
      "            Expecting nothing\n",
      "            ok\n",
      "            Trying:\n",
      "                def get_hash(num):\n",
      "                    \"\"\"Helper function for assessing correctness.\"\"\"\n",
      "                    return hashlib.md5(str(num).encode()).hexdigest()\n",
      "            Expecting nothing\n",
      "            ok\n",
      "            Trying:\n",
      "                get_hash(np.array(least_squares_order).astype(int)) # Your ordering is incorrect.\n",
      "            Expecting:\n",
      "                'cd29f2d730e11535cef30ecc78640daa'\n",
      "            **********************************************************************\n",
      "            Line 7, in q1_0 1\n",
      "            Failed example:\n",
      "                get_hash(np.array(least_squares_order).astype(int)) # Your ordering is incorrect.\n",
      "            Exception raised:\n",
      "                Traceback (most recent call last):\n",
      "                  File \"/home/xuananle/.pyenv/versions/3.10.12/lib/python3.10/doctest.py\", line 1350, in __run\n",
      "                    exec(compile(example.source, filename, \"single\",\n",
      "                  File \"<doctest q1_0 1[2]>\", line 1, in <module>\n",
      "                    get_hash(np.array(least_squares_order).astype(int)) # Your ordering is incorrect.\n",
      "                TypeError: int() argument must be a string, a bytes-like object or a real number, not 'ellipsis'\n",
      "\n",
      "    q1_3 results: All test cases passed!\n",
      "\n",
      "    q1_5 results: All test cases passed!\n",
      "\n",
      "    q1_6 results: All test cases passed!\n",
      "\n",
      "    q2_1 results: All test cases passed!\n",
      "\n",
      "    q2_2 results: All test cases passed!\n",
      "\n",
      "    q3_1 results: All test cases passed!\n",
      "\n",
      "    q3_2 results: All test cases passed!\n",
      "\n",
      "    q3_3 results: All test cases passed!\n",
      "\n",
      "    q4_1 results: All test cases passed!\n",
      "\n",
      "    q5_1 results: All test cases passed!\n",
      "\n",
      "    q5_2 results:\n",
      "        q5_2 - 1 result:\n",
      "            ❌ Test case failed\n",
      "            Trying:\n",
      "                np.allclose([wait_below_3(1), wait_below_3(3), wait_above_3(3), wait_above_3(6)], \n",
      "                            [47.902151605742517, 60.603197182023813, 72.965413990538366, 89.281859197449506])\n",
      "            Expecting:\n",
      "                True\n",
      "            **********************************************************************\n",
      "            Line 1, in q5_2 0\n",
      "            Failed example:\n",
      "                np.allclose([wait_below_3(1), wait_below_3(3), wait_above_3(3), wait_above_3(6)], \n",
      "                            [47.902151605742517, 60.603197182023813, 72.965413990538366, 89.281859197449506])\n",
      "            Exception raised:\n",
      "                Traceback (most recent call last):\n",
      "                  File \"/home/xuananle/.pyenv/versions/3.10.12/lib/python3.10/doctest.py\", line 1350, in __run\n",
      "                    exec(compile(example.source, filename, \"single\",\n",
      "                  File \"<doctest q5_2 0[0]>\", line 1, in <module>\n",
      "                    np.allclose([wait_below_3(1), wait_below_3(3), wait_above_3(3), wait_above_3(6)],\n",
      "                NameError: name 'wait_below_3' is not defined\n",
      "\n",
      "    q5_3 results:\n",
      "        q5_3 - 1 result:\n",
      "            ❌ Test case failed\n",
      "            Trying:\n",
      "                np.allclose([predict_wait(x) for x in [1.5, 2.5]], \n",
      "                            [51.077412999812836, 57.427935787953487])\n",
      "            Expecting:\n",
      "                True\n",
      "            **********************************************************************\n",
      "            Line 1, in q5_3 0\n",
      "            Failed example:\n",
      "                np.allclose([predict_wait(x) for x in [1.5, 2.5]], \n",
      "                            [51.077412999812836, 57.427935787953487])\n",
      "            Exception raised:\n",
      "                Traceback (most recent call last):\n",
      "                  File \"/home/xuananle/.pyenv/versions/3.10.12/lib/python3.10/doctest.py\", line 1350, in __run\n",
      "                    exec(compile(example.source, filename, \"single\",\n",
      "                  File \"<doctest q5_3 0[0]>\", line 1, in <module>\n",
      "                    np.allclose([predict_wait(x) for x in [1.5, 2.5]],\n",
      "                  File \"/home/xuananle/Documents/Learn/LearnDataScience/materials-fa24/venv/lib/python3.10/site-packages/numpy/_core/numeric.py\", line 2329, in allclose\n",
      "                    res = all(isclose(a, b, rtol=rtol, atol=atol, equal_nan=equal_nan))\n",
      "                  File \"/home/xuananle/Documents/Learn/LearnDataScience/materials-fa24/venv/lib/python3.10/site-packages/numpy/_core/numeric.py\", line 2447, in isclose\n",
      "                    result = (less_equal(abs(x-y), atol + rtol * abs(y))\n",
      "                TypeError: unsupported operand type(s) for -: 'NoneType' and 'float'\n",
      "\n",
      "        q5_3 - 2 result:\n",
      "            ❌ Test case failed\n",
      "            Trying:\n",
      "                np.allclose([predict_wait(x) for x in [3.5, 4.5]], \n",
      "                            [75.684821525023551, 81.123636593993922])\n",
      "            Expecting:\n",
      "                True\n",
      "            **********************************************************************\n",
      "            Line 1, in q5_3 1\n",
      "            Failed example:\n",
      "                np.allclose([predict_wait(x) for x in [3.5, 4.5]], \n",
      "                            [75.684821525023551, 81.123636593993922])\n",
      "            Exception raised:\n",
      "                Traceback (most recent call last):\n",
      "                  File \"/home/xuananle/.pyenv/versions/3.10.12/lib/python3.10/doctest.py\", line 1350, in __run\n",
      "                    exec(compile(example.source, filename, \"single\",\n",
      "                  File \"<doctest q5_3 1[0]>\", line 1, in <module>\n",
      "                    np.allclose([predict_wait(x) for x in [3.5, 4.5]],\n",
      "                  File \"/home/xuananle/Documents/Learn/LearnDataScience/materials-fa24/venv/lib/python3.10/site-packages/numpy/_core/numeric.py\", line 2329, in allclose\n",
      "                    res = all(isclose(a, b, rtol=rtol, atol=atol, equal_nan=equal_nan))\n",
      "                  File \"/home/xuananle/Documents/Learn/LearnDataScience/materials-fa24/venv/lib/python3.10/site-packages/numpy/_core/numeric.py\", line 2447, in isclose\n",
      "                    result = (less_equal(abs(x-y), atol + rtol * abs(y))\n",
      "                TypeError: unsupported operand type(s) for -: 'NoneType' and 'float'\n"
     ]
    },
    {
     "data": {
      "text/html": [
       "\n",
       "                    <p>\n",
       "                        Your submission has been exported. Click\n",
       "                        <a href=\"lab09_2025_05_06T17_33_27_762407.zip\" download=\"lab09_2025_05_06T17_33_27_762407.zip\" target=\"_blank\">here</a> to download\n",
       "                        the zip file.\n",
       "                    </p>\n",
       "                "
      ],
      "text/plain": [
       "<IPython.core.display.HTML object>"
      ]
     },
     "metadata": {},
     "output_type": "display_data"
    }
   ],
   "source": [
    "# Save your notebook first, then run this cell to export your submission.\n",
    "grader.export(pdf=False, run_tests=True)"
   ]
  },
  {
   "cell_type": "markdown",
   "id": "4560fecd",
   "metadata": {},
   "source": [
    " "
   ]
  }
 ],
 "metadata": {
  "kernelspec": {
   "display_name": "Python 3 (ipykernel)",
   "language": "python",
   "name": "python3"
  },
  "language_info": {
   "codemirror_mode": {
    "name": "ipython",
    "version": 3
   },
   "file_extension": ".py",
   "mimetype": "text/x-python",
   "name": "python",
   "nbconvert_exporter": "python",
   "pygments_lexer": "ipython3",
   "version": "3.10.12"
  },
  "otter": {
   "OK_FORMAT": true,
   "tests": {
    "q1_0": {
     "name": "q1_0",
     "points": null,
     "suites": [
      {
       "cases": [
        {
         "code": ">>> len(least_squares_order) == 4\nTrue",
         "hidden": false,
         "locked": false
        },
        {
         "code": ">>> \n>>> import hashlib # This imports a hashing library for the autograder.\n>>> def get_hash(num):\n...     \"\"\"Helper function for assessing correctness.\"\"\"\n...     return hashlib.md5(str(num).encode()).hexdigest()\n>>> \n>>> get_hash(np.array(least_squares_order).astype(int)) # Your ordering is incorrect.\n'cd29f2d730e11535cef30ecc78640daa'",
         "hidden": false,
         "locked": false
        }
       ],
       "scored": true,
       "setup": "",
       "teardown": "",
       "type": "doctest"
      }
     ]
    },
    "q1_3": {
     "name": "q1_3",
     "points": null,
     "suites": [
      {
       "cases": [
        {
         "code": ">>> abs(sum(faithful_standard.column(0))) <= 1e-8\nTrue",
         "hidden": false,
         "locked": false
        },
        {
         "code": ">>> round(duration_std, 2) == 1.14\nTrue",
         "hidden": false,
         "locked": false
        },
        {
         "code": ">>> round(wait_std, 2) == 13.57 \nTrue",
         "hidden": false,
         "locked": false
        }
       ],
       "scored": true,
       "setup": "",
       "teardown": "",
       "type": "doctest"
      }
     ]
    },
    "q1_5": {
     "name": "q1_5",
     "points": null,
     "suites": [
      {
       "cases": [
        {
         "code": ">>> \n>>> import hashlib # This imports a hashing library for the autograder.\n>>> def get_hash(num):\n...     \"\"\"Helper function for assessing correctness.\"\"\"\n...     return hashlib.md5(str(num).encode()).hexdigest()\n>>> \n>>> get_hash(int(correlation)) # Your choice is incorrect.\n'a87ff679a2f3e71d9181a67b7542122c'",
         "hidden": false,
         "locked": false
        }
       ],
       "scored": true,
       "setup": "",
       "teardown": "",
       "type": "doctest"
      }
     ]
    },
    "q1_6": {
     "name": "q1_6",
     "points": null,
     "suites": [
      {
       "cases": [
        {
         "code": ">>> -1 <= r <= 1\nTrue",
         "hidden": false,
         "locked": false
        },
        {
         "code": ">>> round(r,3) == 0.901\nTrue",
         "hidden": false,
         "locked": false
        }
       ],
       "scored": true,
       "setup": "",
       "teardown": "",
       "type": "doctest"
      }
     ]
    },
    "q2_1": {
     "name": "q2_1",
     "points": null,
     "suites": [
      {
       "cases": [
        {
         "code": ">>> (slope*13 - 100)/98 <= 0.5\nTrue",
         "hidden": false,
         "locked": false
        },
        {
         "code": ">>> np.round(slope, 4) == 10.7296 # Make sure you are plugging in the SD_x and SD_y in the correct spots!\nTrue",
         "hidden": false,
         "locked": false
        }
       ],
       "scored": true,
       "setup": "",
       "teardown": "",
       "type": "doctest"
      }
     ]
    },
    "q2_2": {
     "name": "q2_2",
     "points": null,
     "suites": [
      {
       "cases": [
        {
         "code": ">>> 33 < intercept < 34\nTrue",
         "hidden": false,
         "locked": false
        },
        {
         "code": ">>> np.round(intercept, 3) == 33.474\nTrue",
         "hidden": false,
         "locked": false
        }
       ],
       "scored": true,
       "setup": "",
       "teardown": "",
       "type": "doctest"
      }
     ]
    },
    "q3_1": {
     "name": "q3_1",
     "points": null,
     "suites": [
      {
       "cases": [
        {
         "code": ">>> round(two_minute_predicted_waiting_time, 3) == 54.934\nTrue",
         "hidden": false,
         "locked": false
        },
        {
         "code": ">>> round(five_minute_predicted_waiting_time, 3) == 87.123\nTrue",
         "hidden": false,
         "locked": false
        }
       ],
       "scored": true,
       "setup": "",
       "teardown": "",
       "type": "doctest"
      }
     ]
    },
    "q3_2": {
     "name": "q3_2",
     "points": null,
     "suites": [
      {
       "cases": [
        {
         "code": ">>> set(faithful_predictions.labels) == set(['duration', 'wait', 'predicted wait']) # Make sure your column labels are correct.\nTrue",
         "hidden": false,
         "locked": false
        },
        {
         "code": ">>> abs(1 - np.mean(faithful_predictions.column(2))/100) <= 0.35\nTrue",
         "hidden": false,
         "locked": false
        }
       ],
       "scored": true,
       "setup": "",
       "teardown": "",
       "type": "doctest"
      }
     ]
    },
    "q3_3": {
     "name": "q3_3",
     "points": null,
     "suites": [
      {
       "cases": [
        {
         "code": ">>> set(faithful_residuals.labels) == set(['duration', 'wait', 'predicted wait', 'residual']) # Make sure your column labels are correct.\nTrue",
         "hidden": false,
         "locked": false
        },
        {
         "code": ">>> abs(sum(faithful_residuals.column('residual'))) <= 1e-8\nTrue",
         "hidden": false,
         "locked": false
        }
       ],
       "scored": true,
       "setup": "",
       "teardown": "",
       "type": "doctest"
      }
     ]
    },
    "q4_1": {
     "name": "q4_1",
     "points": null,
     "suites": [
      {
       "cases": [
        {
         "code": ">>> 12 - zero_minute_predicted_waiting_time*1.4/4 <= 0.35\nTrue",
         "hidden": false,
         "locked": false
        },
        {
         "code": ">>> zero_minute_predicted_waiting_time - intercept <= 1e5\nTrue",
         "hidden": false,
         "locked": false
        },
        {
         "code": ">>> 2 - two_point_five_minute_predicted_waiting_time/35 <= 0.4\nTrue",
         "hidden": false,
         "locked": false
        },
        {
         "code": ">>> (26 - hour_predicted_waiting_time/30)/10 <= 0.43\nTrue",
         "hidden": false,
         "locked": false
        }
       ],
       "scored": true,
       "setup": "",
       "teardown": "",
       "type": "doctest"
      }
     ]
    },
    "q5_1": {
     "name": "q5_1",
     "points": null,
     "suites": [
      {
       "cases": [
        {
         "code": ">>> [below_3.num_rows, above_3.num_rows]\n[97, 175]",
         "hidden": false,
         "locked": false
        },
        {
         "code": ">>> np.allclose([below_3_r, above_3_r], [0.290189526493, 0.372782225571])\nTrue",
         "hidden": false,
         "locked": false
        }
       ],
       "scored": true,
       "setup": "",
       "teardown": "",
       "type": "doctest"
      }
     ]
    },
    "q5_2": {
     "name": "q5_2",
     "points": null,
     "suites": [
      {
       "cases": [
        {
         "code": ">>> np.allclose([wait_below_3(1), wait_below_3(3), wait_above_3(3), wait_above_3(6)], \n...             [47.902151605742517, 60.603197182023813, 72.965413990538366, 89.281859197449506])\nTrue",
         "hidden": false,
         "locked": false
        }
       ],
       "scored": true,
       "setup": "",
       "teardown": "",
       "type": "doctest"
      }
     ]
    },
    "q5_3": {
     "name": "q5_3",
     "points": null,
     "suites": [
      {
       "cases": [
        {
         "code": ">>> np.allclose([predict_wait(x) for x in [1.5, 2.5]], \n...             [51.077412999812836, 57.427935787953487])\nTrue",
         "hidden": false,
         "locked": false
        },
        {
         "code": ">>> np.allclose([predict_wait(x) for x in [3.5, 4.5]], \n...             [75.684821525023551, 81.123636593993922])\nTrue",
         "hidden": false,
         "locked": false
        }
       ],
       "scored": true,
       "setup": "",
       "teardown": "",
       "type": "doctest"
      }
     ]
    }
   }
  }
 },
 "nbformat": 4,
 "nbformat_minor": 5
}
