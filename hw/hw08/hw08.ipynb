{
 "cells": [
  {
   "cell_type": "code",
   "execution_count": 1,
   "id": "290b7b11",
   "metadata": {
    "deletable": false,
    "editable": false
   },
   "outputs": [],
   "source": [
    "# Initialize Otter\n",
    "import otter\n",
    "grader = otter.Notebook(\"hw08.ipynb\")"
   ]
  },
  {
   "cell_type": "markdown",
   "id": "5fe6a180",
   "metadata": {},
   "source": [
    "<img src=\"data8logo.png\" alt=\"Data 8 Logo\" style=\"width: 15%; float: right; padding: 1%; margin-right: 2%;\"/>\n",
    "\n",
    "# Homework 8: Confidence Intervals\n",
    "\n",
    "**Helpful Resource:**\n",
    "\n",
    "- [Python Reference](http://data8.org/fa24/reference/): Cheat sheet of helpful array & table methods used in Data 8!\n",
    "\n",
    "**Recommended Reading**: \n",
    "\n",
    "* [Estimation](https://www.inferentialthinking.com/chapters/13/Estimation)"
   ]
  },
  {
   "attachments": {},
   "cell_type": "markdown",
   "id": "fc75b9d9",
   "metadata": {},
   "source": [
    "Please complete this notebook by filling in the cells provided. **Before you begin, execute the cell below to setup the notebook by importing some helpful libraries.** Each time you start your server, you will need to execute this cell again.\n",
    "\n",
    "For all problems that you must write explanations and sentences for, you **must** provide your answer in the designated space. Moreover, throughout this homework and all future ones, **please be sure to not re-assign variables throughout the notebook!** For example, if you use `max_temperature` in your answer to one question, do not reassign it later on. Otherwise, you will fail tests that you thought you were passing previously!\n",
    "\n",
    "**Deadline:**\n",
    "\n",
    "This assignment is **due Wednesday, 10/30 at 5:00pm PT**. Submissions after this time will be accepted for 24 hours and will incur a 20% penalty. Any submissions later than this 24 hour period will not be accepted unless an extension has been granted as per the [policies](http://data8.org/fa24/policies/) page. Turn it in by Tuesday, 10/29 at 5:00pm PT for 5 extra credit points.\n",
    "\n",
    "<span style=\"color:red\">**Note: This homework has hidden tests on it. That means even though tests may say 100% passed, it doesn't mean your final grade will be 100%. We will be running more tests for correctness once everyone turns in the homework.**</span>\n",
    "\n",
    "Directly sharing answers is not okay, but discussing problems with the course staff or with other students is encouraged. Refer to the [policies](http://data8.org/fa24/policies/#learning-cooperatively) page to learn more about how to learn cooperatively.\n",
    "\n",
    "You should start early so that you have time to get help if you're stuck. Office hours are held Monday through Friday in [Warren Hall](https://www.berkeley.edu/map?warren) 101B. The office hours schedule appears [here](https://www.data8.org/fa24/schedule/)."
   ]
  },
  {
   "cell_type": "code",
   "execution_count": 2,
   "id": "d484f2b1",
   "metadata": {},
   "outputs": [],
   "source": [
    "# Don't change this cell; just run it. \n",
    "\n",
    "import numpy as np\n",
    "from datascience import *\n",
    "\n",
    "# These lines do some fancy plotting magic.\",\n",
    "import matplotlib\n",
    "%matplotlib inline\n",
    "import matplotlib.pyplot as plt \n",
    "plt.style.use('fivethirtyeight')\n",
    "import warnings\n",
    "warnings.simplefilter('ignore', FutureWarning)"
   ]
  },
  {
   "cell_type": "markdown",
   "id": "962f6bbd",
   "metadata": {},
   "source": [
    "<hr style=\"border: 5px solid #003262;\" />\n",
    "<hr style=\"border: 1px solid #fdb515;\" />\n",
    "\n",
    "## 1. Thai Restaurants in Berkeley"
   ]
  },
  {
   "attachments": {},
   "cell_type": "markdown",
   "id": "459fd5b5",
   "metadata": {},
   "source": [
    "Jonathan and Bing are trying to see what the best Thai restaurant in Berkeley is. They survey 1,500 UC Berkeley students selected uniformly at random and ask each student which Thai restaurant is the best. (*Note: This data is fabricated for the purposes of this homework.*) The choices of Thai restaurants are [Lucky House](https://www.google.com/maps/place/Lucky+House+Thai+Cuisine/@37.8707428,-122.270045,15.32z/data=!4m5!3m4!1s0x80857e9e69a8c921:0x7b6d80f58406fb26!8m2!3d37.8721393!4d-122.2672699), [Imm Thai](https://www.google.com/maps/place/Imm+Thai+Street+Food/@37.8704926,-122.2687372,15.51z/data=!4m5!3m4!1s0x80857e9eec4f1e63:0x5f54d96f0dccdb72!8m2!3d37.8719079!4d-122.2691186), [Thai Temple](https://www.google.com/maps/place/Wat+Mongkolratanaram/@37.8689514,-122.2698649,14.75z/data=!4m5!3m4!1s0x80857e886e39daf1:0xe309caa1b5710fc0!8m2!3d37.8563633!4d-122.2707584), and [Thai Basil](https://www.google.com/maps/place/Thai+Basil/@37.8691911,-122.266539,15.37z/data=!4m5!3m4!1s0x80857c2f6ae0e2f1:0x6978b6e8a72d58d4!8m2!3d37.868327!4d-122.258081). After compiling the results, Jonathan and Bing release the following percentages of votes that each restaurant received, from their sample:\n",
    "\n",
    "|Thai Restaurant  | Percentage|\n",
    "|:------------:|:------------:|\n",
    "|Lucky House | 8% |\n",
    "|Imm Thai | 53% |\n",
    "|Thai Temple | 25% |\n",
    "|Thai Basil | 14% |\n",
    "\n",
    "These percentages represent a uniform random sample of the population of UC Berkeley students. We will attempt to estimate the corresponding *parameters*, or the percentage of the votes that each restaurant will receive from the population (i.e. all UC Berkeley students). We will use confidence intervals to compute a range of values that reflects the uncertainty of our estimates.\n",
    "\n",
    "The table `votes` contains the results of Jonathan and Bing's survey."
   ]
  },
  {
   "cell_type": "code",
   "execution_count": 9,
   "id": "f7fca6d9",
   "metadata": {
    "deletable": false,
    "editable": false
   },
   "outputs": [
    {
     "data": {
      "text/html": [
       "<table border=\"1\" class=\"dataframe\">\n",
       "    <thead>\n",
       "        <tr>\n",
       "            <th>Vote</th>\n",
       "        </tr>\n",
       "    </thead>\n",
       "    <tbody>\n",
       "        <tr>\n",
       "            <td>Lucky House</td>\n",
       "        </tr>\n",
       "        <tr>\n",
       "            <td>Lucky House</td>\n",
       "        </tr>\n",
       "        <tr>\n",
       "            <td>Lucky House</td>\n",
       "        </tr>\n",
       "        <tr>\n",
       "            <td>Lucky House</td>\n",
       "        </tr>\n",
       "        <tr>\n",
       "            <td>Lucky House</td>\n",
       "        </tr>\n",
       "        <tr>\n",
       "            <td>Lucky House</td>\n",
       "        </tr>\n",
       "        <tr>\n",
       "            <td>Lucky House</td>\n",
       "        </tr>\n",
       "        <tr>\n",
       "            <td>Lucky House</td>\n",
       "        </tr>\n",
       "        <tr>\n",
       "            <td>Lucky House</td>\n",
       "        </tr>\n",
       "        <tr>\n",
       "            <td>Lucky House</td>\n",
       "        </tr>\n",
       "    </tbody>\n",
       "</table>\n",
       "<p>... (1490 rows omitted)</p>"
      ],
      "text/plain": [
       "Vote\n",
       "Lucky House\n",
       "Lucky House\n",
       "Lucky House\n",
       "Lucky House\n",
       "Lucky House\n",
       "Lucky House\n",
       "Lucky House\n",
       "Lucky House\n",
       "Lucky House\n",
       "Lucky House\n",
       "... (1490 rows omitted)"
      ]
     },
     "execution_count": 9,
     "metadata": {},
     "output_type": "execute_result"
    }
   ],
   "source": [
    "# Just run this cell\n",
    "votes = Table.read_table('votes.csv')\n",
    "votes"
   ]
  },
  {
   "cell_type": "markdown",
   "id": "1234cb8c",
   "metadata": {},
   "source": [
    "---\n",
    "\n",
    "**Question 1.1.** Complete the function `one_resampled_percentage` below. It should return Imm Thai's ***percentage*** of votes after taking the original table (`tbl`) and performing one bootstrap sample of it. Remember that a percentage is between 0 and 100. **(8 Points)**\n",
    "\n",
    "*Note 1:* `tbl` will always be in the same format as `votes`.\n",
    "\n",
    "*Note 2:* This function should be completed **without** `.group` or `.pivot`. Using these functions will cause your code to timeout.\n",
    "\n",
    "*Hint:* Given a table of votes, how can you figure out what percentage of the votes are for a certain restaurant? **Be sure to use percentages, not proportions, for this question!**\n"
   ]
  },
  {
   "cell_type": "code",
   "execution_count": 24,
   "id": "d18c044e",
   "metadata": {
    "tags": []
   },
   "outputs": [
    {
     "data": {
      "text/plain": [
       "53.266666666666666"
      ]
     },
     "execution_count": 24,
     "metadata": {},
     "output_type": "execute_result"
    }
   ],
   "source": [
    "def one_resampled_percentage(tbl):\n",
    "    x = tbl.sample()\n",
    "    r = tbl.num_rows\n",
    "    return x.where('Vote', are.equal_to('Imm Thai')).num_rows * 100 / r \n",
    "\n",
    "one_resampled_percentage(votes)"
   ]
  },
  {
   "cell_type": "code",
   "execution_count": 25,
   "id": "61cc7bd4",
   "metadata": {
    "deletable": false,
    "editable": false
   },
   "outputs": [
    {
     "data": {
      "text/html": [
       "<p><strong><pre style='display: inline;'>q1_1</pre></strong> passed! 🙌</p>"
      ],
      "text/plain": [
       "q1_1 results: All test cases passed!"
      ]
     },
     "execution_count": 25,
     "metadata": {},
     "output_type": "execute_result"
    }
   ],
   "source": [
    "grader.check(\"q1_1\")"
   ]
  },
  {
   "cell_type": "markdown",
   "id": "d15cb409",
   "metadata": {},
   "source": [
    "---\n",
    "\n",
    "**Question 1.2.** Complete the `percentages_in_resamples` function such that it simulates and returns an array of **2023 elements**, where each element represents a bootstrapped estimate of the percentage of voters who will vote for Imm Thai. You should use the `one_resampled_percentage` function you wrote above. **(8 Points)**\n",
    "\n",
    "_Note:_ We perform our simulation with **only 2023 trials** in this problem to reduce the runtime, but we should generally use more repetitions.\n"
   ]
  },
  {
   "cell_type": "code",
   "execution_count": 28,
   "id": "8f2c3517",
   "metadata": {
    "for_assignment_type": "solution",
    "tags": []
   },
   "outputs": [],
   "source": [
    "def percentages_in_resamples():\n",
    "    percentage_imm = make_array()\n",
    "    for _ in range(2023):\n",
    "        percentage_imm = np.append(percentage_imm, one_resampled_percentage(votes))\n",
    "    return percentage_imm"
   ]
  },
  {
   "cell_type": "code",
   "execution_count": 29,
   "id": "ff8de1a8",
   "metadata": {
    "deletable": false,
    "editable": false
   },
   "outputs": [
    {
     "data": {
      "text/html": [
       "<p><strong><pre style='display: inline;'>q1_2</pre></strong> passed! 🙌</p>"
      ],
      "text/plain": [
       "q1_2 results: All test cases passed!"
      ]
     },
     "execution_count": 29,
     "metadata": {},
     "output_type": "execute_result"
    }
   ],
   "source": [
    "grader.check(\"q1_2\")"
   ]
  },
  {
   "attachments": {},
   "cell_type": "markdown",
   "id": "18fa057a",
   "metadata": {},
   "source": [
    "In the following cell, we run the function you just defined, `percentages_in_resamples`, and create a histogram of the calculated statistic for the 2023 bootstrap estimates of the percentage of voters who voted for Imm Thai. \n",
    "\n",
    "*Note:* This might take a few seconds to run."
   ]
  },
  {
   "cell_type": "code",
   "execution_count": 30,
   "id": "fbb69c27",
   "metadata": {},
   "outputs": [
    {
     "data": {
      "image/png": "[encoded data removed]",
      "text/plain": [
       "<Figure size 600x400 with 1 Axes>"
      ]
     },
     "metadata": {},
     "output_type": "display_data"
    }
   ],
   "source": [
    "resampled_percentages = percentages_in_resamples()\n",
    "Table().with_column('Estimated Percentage', resampled_percentages).hist(\"Estimated Percentage\")"
   ]
  },
  {
   "cell_type": "markdown",
   "id": "21bb7936",
   "metadata": {},
   "source": [
    "---\n",
    "\n",
    "**Question 1.3.** Using the array `resampled_percentages`, find the values at the two edges of the middle 95% of the bootstrapped percentage estimates. Compute the lower and upper ends of the interval, named `imm_lower_bound` and `imm_upper_bound` respectively. **(8 Points)**\n",
    "\n",
    "*Hint:* If you are stuck on this question, try looking over [Chapter 13.1](https://inferentialthinking.com/chapters/13/1/Percentiles.html) of the textbook.\n"
   ]
  },
  {
   "cell_type": "code",
   "execution_count": 31,
   "id": "fd2b1753",
   "metadata": {
    "deletable": false,
    "tags": []
   },
   "outputs": [
    {
     "name": "stdout",
     "output_type": "stream",
     "text": [
      "Bootstrapped 95% confidence interval for the percentage of Imm Thai voters in the population: [50.47, 55.47]\n"
     ]
    }
   ],
   "source": [
    "imm_lower_bound = np.percentile(resampled_percentages, 2.5)\n",
    "imm_upper_bound = np.percentile(resampled_percentages, 97.5)\n",
    "print(f\"Bootstrapped 95% confidence interval for the percentage of Imm Thai voters in the population: [{imm_lower_bound:.2f}, {imm_upper_bound:.2f}]\")"
   ]
  },
  {
   "cell_type": "code",
   "execution_count": 32,
   "id": "ac6f4957",
   "metadata": {
    "deletable": false,
    "editable": false
   },
   "outputs": [
    {
     "data": {
      "text/html": [
       "<p><strong><pre style='display: inline;'>q1_3</pre></strong> passed! 🙌</p>"
      ],
      "text/plain": [
       "q1_3 results: All test cases passed!"
      ]
     },
     "execution_count": 32,
     "metadata": {},
     "output_type": "execute_result"
    }
   ],
   "source": [
    "grader.check(\"q1_3\")"
   ]
  },
  {
   "cell_type": "markdown",
   "id": "ded7033e",
   "metadata": {},
   "source": [
    "---\n",
    "\n",
    "**Question 1.4.** The survey results seem to indicate that Imm Thai is beating all the other Thai restaurants among the voters. We would like to use confidence intervals to determine a range of likely values for Imm Thai's true lead over all the other restaurants combined. The calculation for Imm Thai's lead over Lucky House, Thai Temple, and Thai Basil combined is:\n",
    "\n",
    "$$\\text{Imm Thai's percent of Vote} - (\\text{100 percent} - \\text{Imm Thai's percent of Vote})$$\n",
    "\n",
    "Define the function `one_resampled_difference` that returns **exactly one value** of Imm Thai's percentage lead over Lucky House, Thai Temple, and Thai Basil combined from one bootstrap sample of `tbl`. **(8 Points)**\n",
    "\n",
    "*Hint 1:* Imm Thai's lead can be negative.\n",
    "\n",
    "*Hint 2:* Given a table of votes, how can you figure out what percentage of the votes are for a certain restaurant? **Be sure to use percentages, not proportions, for this question!**\n",
    "\n",
    "*Note:* If the skeleton code provided within the function is not helpful for you, feel free to approach the question using your own variables.\n"
   ]
  },
  {
   "cell_type": "code",
   "execution_count": 34,
   "id": "38c606d0",
   "metadata": {
    "tags": []
   },
   "outputs": [],
   "source": [
    "def one_resampled_difference(tbl):\n",
    "    bootstrap = tbl.sample()\n",
    "    r = bootstrap.num_rows\n",
    "    a = bootstrap.where('Vote', are.equal_to('Imm Thai')).num_rows * 100 / r \n",
    "    imm_percentage = 2 * a - 100\n",
    "    return imm_percentage"
   ]
  },
  {
   "cell_type": "code",
   "execution_count": 35,
   "id": "41d2646d",
   "metadata": {
    "deletable": false,
    "editable": false
   },
   "outputs": [
    {
     "data": {
      "text/html": [
       "<p><strong><pre style='display: inline;'>q1_4</pre></strong> passed! 🚀</p>"
      ],
      "text/plain": [
       "q1_4 results: All test cases passed!"
      ]
     },
     "execution_count": 35,
     "metadata": {},
     "output_type": "execute_result"
    }
   ],
   "source": [
    "grader.check(\"q1_4\")"
   ]
  },
  {
   "cell_type": "markdown",
   "id": "44978eed",
   "metadata": {},
   "source": [
    "<!-- BEGIN QUESTION -->\n",
    "\n",
    "---\n",
    "\n",
    "**Question 1.5.** Write a function called `leads_in_resamples` that returns an array of 2023 elements representing the bootstrapped estimates (the result of calling `one_resampled_difference`) of Imm Thai's lead over Lucky House, Thai Temple, and Thai Basil combined. Afterwards, run the cell to plot a histogram of the resulting samples. **(8 Points)**\n",
    "\n",
    "*Hint:* If you see an error involving `NoneType`, consider what components a function needs to have!\n"
   ]
  },
  {
   "cell_type": "code",
   "execution_count": 37,
   "id": "5a3a78c5",
   "metadata": {
    "for_assignment_type": "solution",
    "tags": []
   },
   "outputs": [
    {
     "data": {
      "image/png": "[encoded data removed]",
      "text/plain": [
       "<Figure size 600x400 with 1 Axes>"
      ]
     },
     "metadata": {},
     "output_type": "display_data"
    }
   ],
   "source": [
    "def leads_in_resamples():\n",
    "    x = make_array()\n",
    "    for _ in range(2023):\n",
    "        x = np.append(x, one_resampled_difference(votes))\n",
    "    return x\n",
    "\n",
    "sampled_leads = leads_in_resamples()\n",
    "Table().with_column('Estimated Lead', sampled_leads).hist(\"Estimated Lead\")"
   ]
  },
  {
   "cell_type": "markdown",
   "id": "9277d2be",
   "metadata": {},
   "source": [
    "<!-- END QUESTION -->\n",
    "\n",
    "---\n",
    "\n",
    "**Question 1.6.** Use the simulated data in `sampled_leads` from Question 1.5 to compute an approximate 95% confidence interval for Imm Thai's true lead over Lucky House, Thai Temple, and Thai Basil combined. **(10 Points)**\n"
   ]
  },
  {
   "cell_type": "code",
   "execution_count": 38,
   "id": "cd74feb1",
   "metadata": {
    "deletable": false,
    "tags": []
   },
   "outputs": [
    {
     "name": "stdout",
     "output_type": "stream",
     "text": [
      "Bootstrapped 95% confidence interval for Imm Thai's true lead over Lucky House, Thai Temple, and Thai Basil combined: [0.800000%, 11.200000%]\n"
     ]
    }
   ],
   "source": [
    "diff_lower_bound = np.percentile(sampled_leads, 2.5)\n",
    "diff_upper_bound = np.percentile(sampled_leads, 97.5)\n",
    "print(\"Bootstrapped 95% confidence interval for Imm Thai's true lead over Lucky House, Thai Temple, and Thai Basil combined: [{:f}%, {:f}%]\".format(diff_lower_bound, diff_upper_bound))"
   ]
  },
  {
   "cell_type": "code",
   "execution_count": 39,
   "id": "36319784",
   "metadata": {
    "deletable": false,
    "editable": false
   },
   "outputs": [
    {
     "data": {
      "text/html": [
       "<p><strong><pre style='display: inline;'>q1_6</pre></strong> passed! 💯</p>"
      ],
      "text/plain": [
       "q1_6 results: All test cases passed!"
      ]
     },
     "execution_count": 39,
     "metadata": {},
     "output_type": "execute_result"
    }
   ],
   "source": [
    "grader.check(\"q1_6\")"
   ]
  },
  {
   "cell_type": "markdown",
   "id": "9b7d9ad4",
   "metadata": {},
   "source": [
    "<hr style=\"border: 5px solid #003262;\" />\n",
    "<hr style=\"border: 1px solid #fdb515;\" />\n",
    "\n",
    "## 2. Interpreting Confidence Intervals "
   ]
  },
  {
   "cell_type": "markdown",
   "id": "938d8193",
   "metadata": {},
   "source": [
    "Jonathan computed the following 95% confidence interval for the percentage of Imm Thai voters: \n",
    "\n",
    "$$[50.53, 55.53]$$\n",
    "\n",
    "(Your answer from 1.3 may have been a bit different due to randomness; that doesn't mean it was wrong!)"
   ]
  },
  {
   "cell_type": "markdown",
   "id": "9671ddef",
   "metadata": {},
   "source": [
    "<!-- BEGIN QUESTION -->\n",
    "\n",
    "---\n",
    "\n",
    "**Question 2.1.** Jonathan also created 70%, 90%, and 99% confidence intervals from the same sample, but he forgot to label which confidence interval represented which percentages! ***First***, **match each confidence level (70%, 90%, 99%) with its corresponding interval in the cell below** (e.g. __ % CI: [52.1, 54] $\\rightarrow$ replace the blank with one of the three confidence levels). ***Then***, **explain your thought process** and how you came up with your answers. **(10 Points)**\n",
    "\n",
    "The intervals are below:\n",
    "\n",
    "* [50.03, 55.94]\n",
    "* [52.1, 54]\n",
    "* [50.97, 54.99]\n",
    "\n",
    "*Hint:* If you are stuck on this question, try looking over Chapters [13.3](https://inferentialthinking.com/chapters/13/3/Confidence_Intervals.html) and [13.4](https://inferentialthinking.com/chapters/13/4/Using_Confidence_Intervals.html) of the textbook.\n"
   ]
  },
  {
   "cell_type": "markdown",
   "id": "70753895",
   "metadata": {},
   "source": [
    "_Type your answer here, replacing this text._"
   ]
  },
  {
   "cell_type": "markdown",
   "id": "e3cba4f9",
   "metadata": {},
   "source": [
    "<!-- END QUESTION -->\n",
    "\n",
    "---\n",
    "\n",
    "**Question 2.2.** Suppose we produced **6,000 new samples** (each one a new/distinct uniform random sample of 1,500 students) from the population and **created a 95% confidence interval from each one**. **Roughly how many of those 6,000 intervals do you expect will actually contain the true percentage of the population?** **(10 Points)**\n",
    "\n",
    "Assign your answer to `true_percentage_intervals`.\n"
   ]
  },
  {
   "cell_type": "code",
   "execution_count": 45,
   "id": "5e5badd2",
   "metadata": {
    "deletable": false,
    "tags": []
   },
   "outputs": [],
   "source": [
    "true_percentage_intervals = 6_000 * 0.95"
   ]
  },
  {
   "cell_type": "code",
   "execution_count": 46,
   "id": "2df670b2",
   "metadata": {
    "deletable": false,
    "editable": false
   },
   "outputs": [
    {
     "data": {
      "text/html": [
       "<p><strong><pre style='display: inline;'>q2_2</pre></strong> passed! 🙌</p>"
      ],
      "text/plain": [
       "q2_2 results: All test cases passed!"
      ]
     },
     "execution_count": 46,
     "metadata": {},
     "output_type": "execute_result"
    }
   ],
   "source": [
    "grader.check(\"q2_2\")"
   ]
  },
  {
   "cell_type": "markdown",
   "id": "5c1d8e7b",
   "metadata": {},
   "source": [
    "Recall the second bootstrap confidence interval you created, which estimated Imm Thai's lead over Lucky House, Thai Temple, and Thai Basil combined. Among\n",
    "voters in the sample, Imm Thai's lead was 6%. Jonathan's 95% confidence interval for the true lead (in the population of all voters) was:\n",
    "\n",
    "$$[1.2, 11.2]$$\n",
    "\n",
    "Suppose we are interested in testing a simple yes-or-no question:\n",
    "\n",
    "> \"Is the percentage of votes for Imm Thai equal to the percentage of votes for Lucky House, Thai Temple, and Thai Basil combined?\"\n",
    "\n",
    "Our null hypothesis is that the percentages are equal, or equivalently, that Imm Thai's lead is exactly 0. Our alternative hypothesis is that Imm Thai's lead is not equal to 0.  In the questions below, don't compute any confidence interval yourself—use only Jonathan's 95% confidence interval.\n",
    "\n",
    "> Hint: Try thinking about the width of the 95% confidence interval in comparison to the new confidence intervals in the questions below. **Drawing a picture may help.**"
   ]
  },
  {
   "cell_type": "markdown",
   "id": "88fe65fa",
   "metadata": {},
   "source": [
    "---\n",
    "\n",
    "**Question 2.3.** Say we use a 5% p-value cutoff. Do we reject the null, fail to reject the null, or are we unable to tell using Jonathan's confidence interval? **(10 Points)**\n",
    "\n",
    "Assign `cutoff_five_percent` to the number corresponding to the correct answer.\n",
    "\n",
    "1. Reject the null / Data is consistent with the alternative hypothesis\n",
    "2. Fail to reject the null / Data is consistent with the null hypothesis\n",
    "3. Unable to tell using Jonathan's confidence interval\n",
    "\n",
    "*Hint:* Consider the relationship between the p-value cutoff and confidence. If you're confused, take a look at [this chapter](https://inferentialthinking.com/chapters/13/4/Using_Confidence_Intervals.html) of the textbook.\n"
   ]
  },
  {
   "cell_type": "code",
   "execution_count": null,
   "id": "cf6c74a8",
   "metadata": {
    "deletable": false,
    "tags": []
   },
   "outputs": [],
   "source": [
    "cutoff_five_percent = ..."
   ]
  },
  {
   "cell_type": "code",
   "execution_count": null,
   "id": "ba2e449b",
   "metadata": {
    "deletable": false,
    "editable": false
   },
   "outputs": [],
   "source": [
    "grader.check(\"q2_3\")"
   ]
  },
  {
   "cell_type": "markdown",
   "id": "6fd28ee5",
   "metadata": {},
   "source": [
    "---\n",
    "\n",
    "**Question 2.4.** What if, instead, we use a p-value cutoff of 1%? Do we reject the null, fail to reject the null, or are we unable to tell using Jonathan's confidence interval? **(10 Points)**\n",
    "\n",
    "Assign `cutoff_one_percent` to the number corresponding to the correct answer.\n",
    "\n",
    "1. Reject the null / Data is consistent with the alternative hypothesis\n",
    "2. Fail to reject the null / Data is consistent with the null hypothesis\n",
    "3. Unable to tell using Jonathan's confidence interval\n"
   ]
  },
  {
   "cell_type": "code",
   "execution_count": null,
   "id": "2854ecaf",
   "metadata": {
    "deletable": false,
    "tags": []
   },
   "outputs": [],
   "source": [
    "cutoff_one_percent = ..."
   ]
  },
  {
   "cell_type": "code",
   "execution_count": null,
   "id": "94e5917d",
   "metadata": {
    "deletable": false,
    "editable": false
   },
   "outputs": [],
   "source": [
    "grader.check(\"q2_4\")"
   ]
  },
  {
   "cell_type": "markdown",
   "id": "2d5076ff",
   "metadata": {},
   "source": [
    "---\n",
    "\n",
    "**Question 2.5.** What if we use a p-value cutoff of 10%? Do we reject, fail to reject, or are we unable to tell using our confidence interval? **(10 Points)**\n",
    "\n",
    "Assign `cutoff_ten_percent` to the number corresponding to the correct answer.\n",
    "\n",
    "1. Reject the null / Data is consistent with the alternative hypothesis\n",
    "2. Fail to reject the null / Data is consistent with the null hypothesis\n",
    "3. Unable to tell using Jonathan's confidence interval\n"
   ]
  },
  {
   "cell_type": "code",
   "execution_count": null,
   "id": "37d46593",
   "metadata": {
    "deletable": false,
    "tags": []
   },
   "outputs": [],
   "source": [
    "cutoff_ten_percent = ..."
   ]
  },
  {
   "cell_type": "code",
   "execution_count": null,
   "id": "1ae0efaa",
   "metadata": {
    "deletable": false,
    "editable": false
   },
   "outputs": [],
   "source": [
    "grader.check(\"q2_5\")"
   ]
  },
  {
   "cell_type": "markdown",
   "id": "14879a65",
   "metadata": {},
   "source": [
    "<hr style=\"border: 5px solid #003262;\" />\n",
    "<hr style=\"border: 1px solid #fdb515;\" />\n",
    "\n",
    "# 3. Midsemester Feedback Form\n",
    "\n",
    "Fill out [this](https://docs.google.com/forms/d/e/1FAIpQLSeCozfJuAbGSzHk7pEUnvBCaBtx8VPe6kQE8yi_XutpOh757w/viewform?usp=sf_link) form to complete the homework. Please use your Berkeley email to access the form. At the end of the form, there will be a secret word that you should input into the box below. Remember to put the secret word in quotes when inputting it (i.e.\"hello\"). The quotation marks indicate that it is a String type!\n",
    "\n",
    "> **Note:** This is the same form as you filled out in lab. If you have completed Lab 07, you should have already filled out the form. If so, please feel free to copy your answer from the Lab!"
   ]
  },
  {
   "cell_type": "code",
   "execution_count": null,
   "id": "c90330d8",
   "metadata": {
    "tags": []
   },
   "outputs": [],
   "source": [
    "secret_word = ..."
   ]
  },
  {
   "cell_type": "code",
   "execution_count": null,
   "id": "968c600e",
   "metadata": {
    "deletable": false,
    "editable": false
   },
   "outputs": [],
   "source": [
    "grader.check(\"q3\")"
   ]
  },
  {
   "attachments": {},
   "cell_type": "markdown",
   "id": "4d5b701e",
   "metadata": {},
   "source": [
    "You're done with Homework 8!  \n",
    "\n",
    "**Important submission steps:** \n",
    "1. Run the tests and verify that they all pass.\n",
    "2. Choose **Save Notebook** from the **File** menu, then **run the final cell**. \n",
    "3. Click the link to download the zip file.\n",
    "4. Go to [Gradescope](https://www.gradescope.com) and submit the zip file to the corresponding assignment. The name of this assignment is \"HW 08 Autograder\". \n",
    "\n",
    "**It is your responsibility to make sure your work is saved before running the last cell.**"
   ]
  },
  {
   "attachments": {},
   "cell_type": "markdown",
   "id": "07d00a78",
   "metadata": {},
   "source": [
    "## Pets of Data 8\n",
    "**Lyla** says congrats on finishing homework 8!\n",
    "\n",
    "<img src=\"./lyla.png\" width=\"40%\" alt=\"Tan dog sleeping on couch\"/>"
   ]
  },
  {
   "cell_type": "markdown",
   "id": "da3609fa",
   "metadata": {},
   "source": [
    "<hr style=\"border: 5px solid #003262;\" />\n",
    "<hr style=\"border: 1px solid #fdb515;\" />\n",
    "\n",
    "## Written Work Submission\n",
    "\n",
    "Below, you will see two cells. Running the first cell will automatically generate a PDF of all questions that need to be manually graded, and running the second cell will automatically generate a zip with your autograded answers. You are responsible for submitting both the coding portion (the zip) and the written portion (the PDF) to their respective Gradescope portals. **Please save before exporting!**\n",
    "\n",
    "> **Important: You must correctly assign the pages of your PDF after you submit to the correct gradescope assignment. If your pages are not correctly assigned and/or not in the correct PDF format by the deadline, we reserve the right to award no points for your written work.**\n",
    "\n",
    "If there are issues with automatically generating the PDF in the first cell, you can try downloading the notebook as a PDF by clicking on `File -> Save and Export Notebook As... -> Webpdf`. If that doesn't work either, you can manually take screenshots of your answers to the manually graded questions and submit one single PDF of your screenshots. Either way, **you are responsible for ensuring your submision follows our requirements, we will NOT be granting regrade requests for submissions that don't follow instructions.**\n",
    "\n",
    "**You must submit the PDF generated via one of these methods, we will not accept screenshots or Word documents.**"
   ]
  },
  {
   "cell_type": "code",
   "execution_count": null,
   "id": "86727393",
   "metadata": {},
   "outputs": [],
   "source": [
    "from otter.export import export_notebook\n",
    "from os import path\n",
    "from IPython.display import display, HTML\n",
    "name = 'hw08'\n",
    "export_notebook(f\"{name}.ipynb\", filtering=True, pagebreaks=True)\n",
    "if(path.exists(f'{name}.pdf')):\n",
    "    display(HTML(f\"Download your PDF <a href='{name}.pdf' download>here</a>.\"))\n",
    "else:\n",
    "    print(\"\\n Pdf generation failed, please try the other methods described above\")"
   ]
  },
  {
   "cell_type": "markdown",
   "id": "93281cca",
   "metadata": {
    "deletable": false,
    "editable": false
   },
   "source": [
    "## Submission\n",
    "\n",
    "Make sure you have run all cells in your notebook in order before running the cell below, so that all images/graphs appear in the output. The cell below will generate a zip file for you to submit. **Please save before exporting!**"
   ]
  },
  {
   "cell_type": "code",
   "execution_count": null,
   "id": "78214534",
   "metadata": {
    "deletable": false,
    "editable": false
   },
   "outputs": [],
   "source": [
    "# Save your notebook first, then run this cell to export your submission.\n",
    "grader.export(pdf=False, run_tests=True)"
   ]
  },
  {
   "cell_type": "markdown",
   "id": "aa552e87",
   "metadata": {},
   "source": [
    " "
   ]
  }
 ],
 "metadata": {
  "kernelspec": {
   "display_name": "Python 3 (ipykernel)",
   "language": "python",
   "name": "python3"
  },
  "language_info": {
   "codemirror_mode": {
    "name": "ipython",
    "version": 3
   },
   "file_extension": ".py",
   "mimetype": "text/x-python",
   "name": "python",
   "nbconvert_exporter": "python",
   "pygments_lexer": "ipython3",
   "version": "3.10.12"
  },
  "otter": {
   "OK_FORMAT": true,
   "tests": {
    "q1_1": {
     "name": "q1_1",
     "points": [
      0,
      0,
      2
     ],
     "suites": [
      {
       "cases": [
        {
         "code": ">>> type(one_resampled_percentage(votes)) in set([float, np.float64]) \nTrue",
         "hidden": false,
         "locked": false
        },
        {
         "code": ">>> # Remember, the question asks for a percentage, not a proportion. \n>>> one_resampled_percentage(votes) > 1\nTrue",
         "hidden": false,
         "locked": false
        },
        {
         "code": ">>> 35 <= one_resampled_percentage(votes) <= 65\nTrue",
         "hidden": false,
         "locked": false
        }
       ],
       "scored": true,
       "setup": "",
       "teardown": "",
       "type": "doctest"
      }
     ]
    },
    "q1_2": {
     "name": "q1_2",
     "points": [
      0
     ],
     "suites": [
      {
       "cases": [
        {
         "code": ">>> len(percentages_in_resamples()) == 2023\nTrue",
         "hidden": false,
         "locked": false
        }
       ],
       "scored": true,
       "setup": "",
       "teardown": "",
       "type": "doctest"
      }
     ]
    },
    "q1_3": {
     "name": "q1_3",
     "points": [
      0
     ],
     "suites": [
      {
       "cases": [
        {
         "code": ">>> 45 <= imm_lower_bound <= imm_upper_bound <= 65\nTrue",
         "hidden": false,
         "locked": false
        }
       ],
       "scored": true,
       "setup": "",
       "teardown": "",
       "type": "doctest"
      }
     ]
    },
    "q1_4": {
     "name": "q1_4",
     "points": [
      0,
      0
     ],
     "suites": [
      {
       "cases": [
        {
         "code": ">>> # Ensure the function returns a float\n>>> type(one_resampled_difference(votes)) in set([float, np.float64]) \nTrue",
         "hidden": false,
         "locked": false
        },
        {
         "code": ">>> # Ensure the function returns a percentage value between 0 and 100\n>>> 0 <= one_resampled_difference(votes) <= 100\nTrue",
         "hidden": false,
         "locked": false
        }
       ],
       "scored": true,
       "setup": "",
       "teardown": "",
       "type": "doctest"
      }
     ]
    },
    "q1_6": {
     "name": "q1_6",
     "points": [
      0
     ],
     "suites": [
      {
       "cases": [
        {
         "code": ">>> -5 <= diff_lower_bound <= diff_upper_bound <= 20\nTrue",
         "hidden": false,
         "locked": false
        }
       ],
       "scored": true,
       "setup": "",
       "teardown": "",
       "type": "doctest"
      }
     ]
    },
    "q2_2": {
     "name": "q2_2",
     "points": [
      0
     ],
     "suites": [
      {
       "cases": [
        {
         "code": ">>> 1000 <= true_percentage_intervals <= 10000\nTrue",
         "hidden": false,
         "locked": false
        }
       ],
       "scored": true,
       "setup": "",
       "teardown": "",
       "type": "doctest"
      }
     ]
    },
    "q2_3": {
     "name": "q2_3",
     "points": [
      0
     ],
     "suites": [
      {
       "cases": [
        {
         "code": ">>> 1 <= cutoff_five_percent <= 3\nTrue",
         "hidden": false,
         "locked": false
        }
       ],
       "scored": true,
       "setup": "",
       "teardown": "",
       "type": "doctest"
      }
     ]
    },
    "q2_4": {
     "name": "q2_4",
     "points": [
      0
     ],
     "suites": [
      {
       "cases": [
        {
         "code": ">>> 1 <= cutoff_one_percent <= 3\nTrue",
         "hidden": false,
         "locked": false
        }
       ],
       "scored": true,
       "setup": "",
       "teardown": "",
       "type": "doctest"
      }
     ]
    },
    "q2_5": {
     "name": "q2_5",
     "points": [
      0
     ],
     "suites": [
      {
       "cases": [
        {
         "code": ">>> 1 <= cutoff_ten_percent <= 3\nTrue",
         "hidden": false,
         "locked": false
        }
       ],
       "scored": true,
       "setup": "",
       "teardown": "",
       "type": "doctest"
      }
     ]
    },
    "q3": {
     "name": "q3",
     "points": null,
     "suites": [
      {
       "cases": [
        {
         "code": ">>> hash(secret_word) == 5149335458351506998\nFalse",
         "hidden": false,
         "locked": false
        }
       ],
       "scored": true,
       "setup": "",
       "teardown": "",
       "type": "doctest"
      }
     ]
    }
   }
  }
 },
 "nbformat": 4,
 "nbformat_minor": 5
}
